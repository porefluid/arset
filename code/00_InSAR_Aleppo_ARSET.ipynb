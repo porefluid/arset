{
 "cells": [
  {
   "cell_type": "markdown",
   "id": "68f1d9a3-fc7d-4e53-a1a2-ddadd384ed8e",
   "metadata": {},
   "source": [
    "<center><img src=\"Slide1.png\" width = \"800\"/></center>"
   ]
  },
  {
   "cell_type": "markdown",
   "id": "43d0c6d2-d617-4a1e-bf5b-85e4df94d95b",
   "metadata": {},
   "source": [
    "### <b> InSAR Coherent Change Detection over Aleppo, Syria (2016)\n",
    "    \n",
    "<b><i> Corey Scher<sup>1</sup>\n",
    "<i>Jamon van Den Hoek<sup>2</sup>\n",
    "    \n",
    "<i><font size=2> 1. Department of Earth and Environmental Sciences | Graduate Center at the City University of New York\n",
    "    \n",
    "<i><font size=2> 2. College of Earth, Ocean, and Atmospheric Sciences | Oregon State University"
   ]
  },
  {
   "cell_type": "markdown",
   "id": "1483a1c4-a0bd-4ab3-9bc6-1d1ac3b8bece",
   "metadata": {},
   "source": [
    "### Introduction\n",
    "\n",
    "   In this training we will walk through an example of bi-temporal coherent change detection over Aleppo, Syria to map proxies for urban damage that occurred as a result of air bombardments in 2016. We will be using the [Alaska Satellite Facility's](https://asf.alaska.edu/) [Vertex tool](https://search.asf.alaska.edu/#/) to generate two synthetic aperture radar [interferogram](https://appliedsciences.nasa.gov/sites/default/files/Session4-SAR-English_0.pdf) (InSAR) datasets to look for anomalous decreases in InSAR measurements of [coherence](https://en.wikipedia.org/wiki/Coherence_(physics) that occurred following a series of airstrike bombardments. This workflow can be completed either using the ASF [Hyp3 Python SDK](https://hyp3-docs.asf.alaska.edu/), as we will demonstrate in this notebook, or generation of InSAR coherence images can be accomplished manually using the ASF Vertex [user interface](https://search.asf.alaska.edu/#/) and raster band math for detection of anomalous areas of changes in InSAR coherence using a geographic information system interface, such as [QGIS](https://www.qgis.org/en/site/)."
   ]
  },
  {
   "cell_type": "code",
   "execution_count": null,
   "id": "d540d972-2899-4945-bfa8-ae3ffce1c2bb",
   "metadata": {},
   "outputs": [],
   "source": []
  }
 ],
 "metadata": {
  "kernelspec": {
   "display_name": "Python 3 (ipykernel)",
   "language": "python",
   "name": "python3"
  },
  "language_info": {
   "codemirror_mode": {
    "name": "ipython",
    "version": 3
   },
   "file_extension": ".py",
   "mimetype": "text/x-python",
   "name": "python",
   "nbconvert_exporter": "python",
   "pygments_lexer": "ipython3",
   "version": "3.10.4"
  }
 },
 "nbformat": 4,
 "nbformat_minor": 5
}
