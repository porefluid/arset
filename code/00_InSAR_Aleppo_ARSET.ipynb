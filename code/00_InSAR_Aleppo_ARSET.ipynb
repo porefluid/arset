{
 "cells": [
  {
   "cell_type": "markdown",
   "id": "68f1d9a3-fc7d-4e53-a1a2-ddadd384ed8e",
   "metadata": {},
   "source": [
    "<center><img src=\"Slide1.png\" width = \"800\"/></center>"
   ]
  },
  {
   "cell_type": "markdown",
   "id": "43d0c6d2-d617-4a1e-bf5b-85e4df94d95b",
   "metadata": {},
   "source": [
    "### <b> InSAR Coherent Change Detection over Aleppo, Syria (2016)\n",
    "    \n",
    "<b><i> Corey Scher<sup>1</sup>\n",
    "<i>Jamon Van Den Hoek<sup>2</sup>\n",
    "    \n",
    "<i><font size=2> 1. Department of Earth and Environmental Sciences | Graduate Center at the City University of New York\n",
    "    \n",
    "<i><font size=2> 2. College of Earth, Ocean, and Atmospheric Sciences | Oregon State University"
   ]
  },
  {
   "cell_type": "markdown",
   "id": "1483a1c4-a0bd-4ab3-9bc6-1d1ac3b8bece",
   "metadata": {},
   "source": [
    "### Introduction\n",
    "\n",
    "   In this training we will walk through an example of bi-temporal coherent change detection over Aleppo, Syria to map proxies for urban damage that occurred as a result of air bombardments in 2016. We will be using the [Alaska Satellite Facility's](https://asf.alaska.edu/) [Vertex tool](https://search.asf.alaska.edu/#/) to generate two synthetic aperture radar [interferogram](https://appliedsciences.nasa.gov/sites/default/files/Session4-SAR-English_0.pdf) (InSAR) datasets to look for anomalous decreases in InSAR measurements of [coherence](https://en.wikipedia.org/wiki/Coherence_(physics) that occurred following a series of airstrike bombardments. This workflow can be completed either using the ASF [Hyp3 Python SDK](https://hyp3-docs.asf.alaska.edu/), as we will demonstrate in this notebook, or by generating InSAR coherence images manually using the ASF Vertex [user interface](https://search.asf.alaska.edu/#/) and raster band math in a geographic information system interface, such as [QGIS](https://www.qgis.org/en/site/)."
   ]
  },
  {
   "cell_type": "code",
   "execution_count": 189,
   "id": "d540d972-2899-4945-bfa8-ae3ffce1c2bb",
   "metadata": {},
   "outputs": [],
   "source": [
    "import os\n",
    "import folium\n",
    "import pandas as pd\n",
    "import asf_search as asf\n",
    "from hyp3_sdk import HyP3\n",
    "import shapely.geometry as shp\n",
    "import matplotlib.pyplot as plt"
   ]
  },
  {
   "cell_type": "code",
   "execution_count": 71,
   "id": "070358f3-e215-4e47-937c-391ee8036d9b",
   "metadata": {},
   "outputs": [],
   "source": [
    "#import credentials from .config file\n",
    "credentials = pd.read_csv('/Users/coreyscher/Documents/GitHub/arset/hyp3.config', header = None, names = ['names', 'values']).set_index('names')"
   ]
  },
  {
   "cell_type": "code",
   "execution_count": 75,
   "id": "3cbc65d6-3423-4cdf-b220-7e98dabca5b0",
   "metadata": {},
   "outputs": [],
   "source": [
    "#authenticate to Hyp3 \n",
    "\n",
    "hyp3 = HyP3(username=credentials.loc['username'][0], \n",
    "            password=credentials.loc['password'][0])"
   ]
  },
  {
   "cell_type": "code",
   "execution_count": 151,
   "id": "45c7a09e-9641-469e-9804-bf1050caec1d",
   "metadata": {
    "tags": []
   },
   "outputs": [],
   "source": [
    "wkt = \"POLYGON((37.0072 36.091,37.3326 36.091,37.3326 36.3183,37.0072 36.3183,37.0072 36.091))\"\n",
    "results = asf.geo_search(platform=[asf.PLATFORM.SENTINEL1], \n",
    "                         intersectsWith=wkt, \n",
    "                         maxResults=10,\n",
    "                        processingLevel = 'SLC').data\n"
   ]
  },
  {
   "cell_type": "code",
   "execution_count": 110,
   "id": "09e0f12c-d616-493a-95c4-a54db74a1d29",
   "metadata": {},
   "outputs": [],
   "source": [
    "def addFootprint(result):\n",
    "    footprint = shp.Polygon(result.geometry['coordinates'][0])\n",
    "    gjson = result.geojson()\n",
    "    fid = gjson['properties']['fileID']\n",
    "    return fid, footprint"
   ]
  },
  {
   "cell_type": "code",
   "execution_count": 153,
   "id": "731fcea0-920a-45d6-84e2-82cfcd31c16a",
   "metadata": {},
   "outputs": [],
   "source": [
    "gdf = gpd.GeoDataFrame(list(map(addFootprint, results)), \n",
    "                       columns = ['fileID', 'footprint'], \n",
    "                       geometry = 'footprint')"
   ]
  },
  {
   "cell_type": "code",
   "execution_count": 207,
   "id": "079e5982-1997-4656-a6ea-1996eda839a7",
   "metadata": {},
   "outputs": [],
   "source": [
    "from shapely.wkt import dumps, loads\n",
    "\n",
    "roi = dumps(loads(wkt))"
   ]
  },
  {
   "cell_type": "code",
   "execution_count": 226,
   "id": "50763f18-70a6-4789-9f55-1cd82a9bb796",
   "metadata": {},
   "outputs": [
    {
     "data": {
      "text/html": [
       "<div style=\"width:100%;\"><div style=\"position:relative;width:100%;height:0;padding-bottom:60%;\"><span style=\"color:#565656\">Make this Notebook Trusted to load map: File -> Trust Notebook</span><iframe src=\"about:blank\" style=\"position:absolute;width:100%;height:100%;left:0;top:0;border:none !important;\" data-html=%3C%21DOCTYPE%20html%3E%0A%3Chead%3E%20%20%20%20%0A%20%20%20%20%3Cmeta%20http-equiv%3D%22content-type%22%20content%3D%22text/html%3B%20charset%3DUTF-8%22%20/%3E%0A%20%20%20%20%0A%20%20%20%20%20%20%20%20%3Cscript%3E%0A%20%20%20%20%20%20%20%20%20%20%20%20L_NO_TOUCH%20%3D%20false%3B%0A%20%20%20%20%20%20%20%20%20%20%20%20L_DISABLE_3D%20%3D%20false%3B%0A%20%20%20%20%20%20%20%20%3C/script%3E%0A%20%20%20%20%0A%20%20%20%20%3Cstyle%3Ehtml%2C%20body%20%7Bwidth%3A%20100%25%3Bheight%3A%20100%25%3Bmargin%3A%200%3Bpadding%3A%200%3B%7D%3C/style%3E%0A%20%20%20%20%3Cstyle%3E%23map%20%7Bposition%3Aabsolute%3Btop%3A0%3Bbottom%3A0%3Bright%3A0%3Bleft%3A0%3B%7D%3C/style%3E%0A%20%20%20%20%3Cscript%20src%3D%22https%3A//cdn.jsdelivr.net/npm/leaflet%401.6.0/dist/leaflet.js%22%3E%3C/script%3E%0A%20%20%20%20%3Cscript%20src%3D%22https%3A//code.jquery.com/jquery-1.12.4.min.js%22%3E%3C/script%3E%0A%20%20%20%20%3Cscript%20src%3D%22https%3A//maxcdn.bootstrapcdn.com/bootstrap/3.2.0/js/bootstrap.min.js%22%3E%3C/script%3E%0A%20%20%20%20%3Cscript%20src%3D%22https%3A//cdnjs.cloudflare.com/ajax/libs/Leaflet.awesome-markers/2.0.2/leaflet.awesome-markers.js%22%3E%3C/script%3E%0A%20%20%20%20%3Clink%20rel%3D%22stylesheet%22%20href%3D%22https%3A//cdn.jsdelivr.net/npm/leaflet%401.6.0/dist/leaflet.css%22/%3E%0A%20%20%20%20%3Clink%20rel%3D%22stylesheet%22%20href%3D%22https%3A//maxcdn.bootstrapcdn.com/bootstrap/3.2.0/css/bootstrap.min.css%22/%3E%0A%20%20%20%20%3Clink%20rel%3D%22stylesheet%22%20href%3D%22https%3A//maxcdn.bootstrapcdn.com/bootstrap/3.2.0/css/bootstrap-theme.min.css%22/%3E%0A%20%20%20%20%3Clink%20rel%3D%22stylesheet%22%20href%3D%22https%3A//maxcdn.bootstrapcdn.com/font-awesome/4.6.3/css/font-awesome.min.css%22/%3E%0A%20%20%20%20%3Clink%20rel%3D%22stylesheet%22%20href%3D%22https%3A//cdnjs.cloudflare.com/ajax/libs/Leaflet.awesome-markers/2.0.2/leaflet.awesome-markers.css%22/%3E%0A%20%20%20%20%3Clink%20rel%3D%22stylesheet%22%20href%3D%22https%3A//cdn.jsdelivr.net/gh/python-visualization/folium/folium/templates/leaflet.awesome.rotate.min.css%22/%3E%0A%20%20%20%20%0A%20%20%20%20%20%20%20%20%20%20%20%20%3Cmeta%20name%3D%22viewport%22%20content%3D%22width%3Ddevice-width%2C%0A%20%20%20%20%20%20%20%20%20%20%20%20%20%20%20%20initial-scale%3D1.0%2C%20maximum-scale%3D1.0%2C%20user-scalable%3Dno%22%20/%3E%0A%20%20%20%20%20%20%20%20%20%20%20%20%3Cstyle%3E%0A%20%20%20%20%20%20%20%20%20%20%20%20%20%20%20%20%23map_61aa628adefc44a29ce008ff63ea51b7%20%7B%0A%20%20%20%20%20%20%20%20%20%20%20%20%20%20%20%20%20%20%20%20position%3A%20relative%3B%0A%20%20%20%20%20%20%20%20%20%20%20%20%20%20%20%20%20%20%20%20width%3A%20100.0%25%3B%0A%20%20%20%20%20%20%20%20%20%20%20%20%20%20%20%20%20%20%20%20height%3A%20100.0%25%3B%0A%20%20%20%20%20%20%20%20%20%20%20%20%20%20%20%20%20%20%20%20left%3A%200.0%25%3B%0A%20%20%20%20%20%20%20%20%20%20%20%20%20%20%20%20%20%20%20%20top%3A%200.0%25%3B%0A%20%20%20%20%20%20%20%20%20%20%20%20%20%20%20%20%7D%0A%20%20%20%20%20%20%20%20%20%20%20%20%3C/style%3E%0A%20%20%20%20%20%20%20%20%0A%20%20%20%20%0A%20%20%20%20%20%20%20%20%20%20%20%20%20%20%20%20%20%20%20%20%3Cstyle%3E%0A%20%20%20%20%20%20%20%20%20%20%20%20%20%20%20%20%20%20%20%20%20%20%20%20.foliumtooltip%20%7B%0A%20%20%20%20%20%20%20%20%20%20%20%20%20%20%20%20%20%20%20%20%20%20%20%20%20%20%20%20%0A%20%20%20%20%20%20%20%20%20%20%20%20%20%20%20%20%20%20%20%20%20%20%20%20%7D%0A%20%20%20%20%20%20%20%20%20%20%20%20%20%20%20%20%20%20%20%20%20%20%20.foliumtooltip%20table%7B%0A%20%20%20%20%20%20%20%20%20%20%20%20%20%20%20%20%20%20%20%20%20%20%20%20%20%20%20%20margin%3A%20auto%3B%0A%20%20%20%20%20%20%20%20%20%20%20%20%20%20%20%20%20%20%20%20%20%20%20%20%7D%0A%20%20%20%20%20%20%20%20%20%20%20%20%20%20%20%20%20%20%20%20%20%20%20%20.foliumtooltip%20tr%7B%0A%20%20%20%20%20%20%20%20%20%20%20%20%20%20%20%20%20%20%20%20%20%20%20%20%20%20%20%20text-align%3A%20left%3B%0A%20%20%20%20%20%20%20%20%20%20%20%20%20%20%20%20%20%20%20%20%20%20%20%20%7D%0A%20%20%20%20%20%20%20%20%20%20%20%20%20%20%20%20%20%20%20%20%20%20%20%20.foliumtooltip%20th%7B%0A%20%20%20%20%20%20%20%20%20%20%20%20%20%20%20%20%20%20%20%20%20%20%20%20%20%20%20%20padding%3A%202px%3B%20padding-right%3A%208px%3B%0A%20%20%20%20%20%20%20%20%20%20%20%20%20%20%20%20%20%20%20%20%20%20%20%20%7D%0A%20%20%20%20%20%20%20%20%20%20%20%20%20%20%20%20%20%20%20%20%3C/style%3E%0A%20%20%20%20%20%20%20%20%20%20%20%20%0A%20%20%20%20%0A%20%20%20%20%3Cscript%20src%3D%22https%3A//code.jquery.com/ui/1.12.1/jquery-ui.js%22%3E%3C/script%3E%0A%20%20%20%20%3Cscript%3E%24%28%20function%28%29%20%7B%0A%20%20%20%20%20%20%20%20%24%28%20%22.maplegend%22%20%29.draggable%28%7B%0A%20%20%20%20%20%20%20%20%20%20%20%20start%3A%20function%20%28event%2C%20ui%29%20%7B%0A%20%20%20%20%20%20%20%20%20%20%20%20%20%20%20%20%24%28this%29.css%28%7B%0A%20%20%20%20%20%20%20%20%20%20%20%20%20%20%20%20%20%20%20%20right%3A%20%22auto%22%2C%0A%20%20%20%20%20%20%20%20%20%20%20%20%20%20%20%20%20%20%20%20top%3A%20%22auto%22%2C%0A%20%20%20%20%20%20%20%20%20%20%20%20%20%20%20%20%20%20%20%20bottom%3A%20%22auto%22%0A%20%20%20%20%20%20%20%20%20%20%20%20%20%20%20%20%7D%29%3B%0A%20%20%20%20%20%20%20%20%20%20%20%20%7D%0A%20%20%20%20%20%20%20%20%7D%29%3B%0A%20%20%20%20%7D%29%3B%0A%20%20%20%20%3C/script%3E%0A%20%20%20%20%3Cstyle%20type%3D%27text/css%27%3E%0A%20%20%20%20%20%20.maplegend%20%7B%0A%20%20%20%20%20%20%20%20position%3A%20absolute%3B%0A%20%20%20%20%20%20%20%20z-index%3A9999%3B%0A%20%20%20%20%20%20%20%20background-color%3A%20rgba%28255%2C%20255%2C%20255%2C%20.8%29%3B%0A%20%20%20%20%20%20%20%20border-radius%3A%205px%3B%0A%20%20%20%20%20%20%20%20box-shadow%3A%200%200%2015px%20rgba%280%2C0%2C0%2C0.2%29%3B%0A%20%20%20%20%20%20%20%20padding%3A%2010px%3B%0A%20%20%20%20%20%20%20%20font%3A%2012px/14px%20Arial%2C%20Helvetica%2C%20sans-serif%3B%0A%20%20%20%20%20%20%20%20right%3A%2010px%3B%0A%20%20%20%20%20%20%20%20bottom%3A%2020px%3B%0A%20%20%20%20%20%20%7D%0A%20%20%20%20%20%20.maplegend%20.legend-title%20%7B%0A%20%20%20%20%20%20%20%20text-align%3A%20left%3B%0A%20%20%20%20%20%20%20%20margin-bottom%3A%205px%3B%0A%20%20%20%20%20%20%20%20font-weight%3A%20bold%3B%0A%20%20%20%20%20%20%20%20%7D%0A%20%20%20%20%20%20.maplegend%20.legend-scale%20ul%20%7B%0A%20%20%20%20%20%20%20%20margin%3A%200%3B%0A%20%20%20%20%20%20%20%20margin-bottom%3A%200px%3B%0A%20%20%20%20%20%20%20%20padding%3A%200%3B%0A%20%20%20%20%20%20%20%20float%3A%20left%3B%0A%20%20%20%20%20%20%20%20list-style%3A%20none%3B%0A%20%20%20%20%20%20%20%20%7D%0A%20%20%20%20%20%20.maplegend%20.legend-scale%20ul%20li%20%7B%0A%20%20%20%20%20%20%20%20list-style%3A%20none%3B%0A%20%20%20%20%20%20%20%20margin-left%3A%200%3B%0A%20%20%20%20%20%20%20%20line-height%3A%2016px%3B%0A%20%20%20%20%20%20%20%20margin-bottom%3A%202px%3B%0A%20%20%20%20%20%20%20%20%7D%0A%20%20%20%20%20%20.maplegend%20ul.legend-labels%20li%20span%20%7B%0A%20%20%20%20%20%20%20%20display%3A%20block%3B%0A%20%20%20%20%20%20%20%20float%3A%20left%3B%0A%20%20%20%20%20%20%20%20height%3A%2014px%3B%0A%20%20%20%20%20%20%20%20width%3A%2014px%3B%0A%20%20%20%20%20%20%20%20margin-right%3A%205px%3B%0A%20%20%20%20%20%20%20%20margin-left%3A%200%3B%0A%20%20%20%20%20%20%20%20border%3A%200px%20solid%20%23ccc%3B%0A%20%20%20%20%20%20%20%20%7D%0A%20%20%20%20%20%20.maplegend%20.legend-source%20%7B%0A%20%20%20%20%20%20%20%20color%3A%20%23777%3B%0A%20%20%20%20%20%20%20%20clear%3A%20both%3B%0A%20%20%20%20%20%20%20%20%7D%0A%20%20%20%20%20%20.maplegend%20a%20%7B%0A%20%20%20%20%20%20%20%20color%3A%20%23777%3B%0A%20%20%20%20%20%20%20%20%7D%0A%20%20%20%20%3C/style%3E%0A%20%20%20%20%0A%3C/head%3E%0A%3Cbody%3E%20%20%20%20%0A%20%20%20%20%0A%20%20%20%20%3Cdiv%20id%3D%27maplegend%20fileID%27%20class%3D%27maplegend%27%3E%0A%20%20%20%20%20%20%20%20%3Cdiv%20class%3D%27legend-title%27%3EfileID%3C/div%3E%0A%20%20%20%20%20%20%20%20%3Cdiv%20class%3D%27legend-scale%27%3E%0A%20%20%20%20%20%20%20%20%20%20%20%20%3Cul%20class%3D%27legend-labels%27%3E%0A%20%20%20%20%20%20%20%20%20%20%20%20%20%20%20%20%3Cli%3E%3Cspan%20style%3D%27background%3A%231f77b4%27%3E%3C/span%3ES1A_IW_SLC__1SDV_20220509T153353_20220509T153421_043136_0526D2_2870-SLC%3C/li%3E%0A%20%20%20%20%20%20%20%20%20%20%20%20%20%20%20%20%3Cli%3E%3Cspan%20style%3D%27background%3A%238c564b%27%3E%3C/span%3ES1A_IW_SLC__1SDV_20220510T033448_20220510T033515_043143_052712_916F-SLC%3C/li%3E%0A%20%20%20%20%20%20%20%20%20%20%20%20%20%20%20%20%3Cli%3E%3Cspan%20style%3D%27background%3A%239edae5%27%3E%3C/span%3ES1A_IW_SLC__1SDV_20220516T152538_20220516T152605_043238_0529EF_C52D-SLC%3C/li%3E%0A%20%20%20%20%20%20%20%20%20%20%20%20%3C/ul%3E%0A%20%20%20%20%20%20%20%20%3C/div%3E%0A%20%20%20%20%3C/div%3E%0A%20%20%20%20%0A%20%20%20%20%0A%20%20%20%20%20%20%20%20%20%20%20%20%3Cdiv%20class%3D%22folium-map%22%20id%3D%22map_61aa628adefc44a29ce008ff63ea51b7%22%20%3E%3C/div%3E%0A%20%20%20%20%20%20%20%20%0A%3C/body%3E%0A%3Cscript%3E%20%20%20%20%0A%20%20%20%20%0A%20%20%20%20%20%20%20%20%20%20%20%20var%20map_61aa628adefc44a29ce008ff63ea51b7%20%3D%20L.map%28%0A%20%20%20%20%20%20%20%20%20%20%20%20%20%20%20%20%22map_61aa628adefc44a29ce008ff63ea51b7%22%2C%0A%20%20%20%20%20%20%20%20%20%20%20%20%20%20%20%20%7B%0A%20%20%20%20%20%20%20%20%20%20%20%20%20%20%20%20%20%20%20%20center%3A%20%5B36.207522%2C%2037.154076%5D%2C%0A%20%20%20%20%20%20%20%20%20%20%20%20%20%20%20%20%20%20%20%20crs%3A%20L.CRS.EPSG3857%2C%0A%20%20%20%20%20%20%20%20%20%20%20%20%20%20%20%20%20%20%20%20zoom%3A%207%2C%0A%20%20%20%20%20%20%20%20%20%20%20%20%20%20%20%20%20%20%20%20zoomControl%3A%20true%2C%0A%20%20%20%20%20%20%20%20%20%20%20%20%20%20%20%20%20%20%20%20preferCanvas%3A%20false%2C%0A%20%20%20%20%20%20%20%20%20%20%20%20%20%20%20%20%7D%0A%20%20%20%20%20%20%20%20%20%20%20%20%29%3B%0A%0A%20%20%20%20%20%20%20%20%20%20%20%20%0A%0A%20%20%20%20%20%20%20%20%0A%20%20%20%20%0A%20%20%20%20%20%20%20%20%20%20%20%20var%20tile_layer_e6ac951dc52741fb807b8887b66b717f%20%3D%20L.tileLayer%28%0A%20%20%20%20%20%20%20%20%20%20%20%20%20%20%20%20%22https%3A//cartodb-basemaps-%7Bs%7D.global.ssl.fastly.net/light_all/%7Bz%7D/%7Bx%7D/%7By%7D.png%22%2C%0A%20%20%20%20%20%20%20%20%20%20%20%20%20%20%20%20%7B%22attribution%22%3A%20%22%5Cu0026copy%3B%20%5Cu003ca%20href%3D%5C%22http%3A//www.openstreetmap.org/copyright%5C%22%5Cu003eOpenStreetMap%5Cu003c/a%5Cu003e%20contributors%20%5Cu0026copy%3B%20%5Cu003ca%20href%3D%5C%22http%3A//cartodb.com/attributions%5C%22%5Cu003eCartoDB%5Cu003c/a%5Cu003e%2C%20CartoDB%20%5Cu003ca%20href%20%3D%5C%22http%3A//cartodb.com/attributions%5C%22%5Cu003eattributions%5Cu003c/a%5Cu003e%22%2C%20%22detectRetina%22%3A%20false%2C%20%22maxNativeZoom%22%3A%2018%2C%20%22maxZoom%22%3A%2018%2C%20%22minZoom%22%3A%200%2C%20%22noWrap%22%3A%20false%2C%20%22opacity%22%3A%201%2C%20%22subdomains%22%3A%20%22abc%22%2C%20%22tms%22%3A%20false%7D%0A%20%20%20%20%20%20%20%20%20%20%20%20%29.addTo%28map_61aa628adefc44a29ce008ff63ea51b7%29%3B%0A%20%20%20%20%20%20%20%20%0A%20%20%20%20%0A%20%20%20%20%20%20%20%20function%20geo_json_34cb169d228c4caaa921e6045225369a_styler%28feature%29%20%7B%0A%20%20%20%20%20%20%20%20%20%20%20%20switch%28feature.id%29%20%7B%0A%20%20%20%20%20%20%20%20%20%20%20%20%20%20%20%20case%20%221%22%3A%20%0A%20%20%20%20%20%20%20%20%20%20%20%20%20%20%20%20%20%20%20%20return%20%7B%22color%22%3A%20%22%238c564b%22%2C%20%22fill%22%3A%20false%2C%20%22fillColor%22%3A%20%22%238c564b%22%2C%20%22fillOpacity%22%3A%200.5%2C%20%22opacity%22%3A%201%2C%20%22weight%22%3A%202%7D%3B%0A%20%20%20%20%20%20%20%20%20%20%20%20%20%20%20%20case%20%222%22%3A%20%0A%20%20%20%20%20%20%20%20%20%20%20%20%20%20%20%20%20%20%20%20return%20%7B%22color%22%3A%20%22%231f77b4%22%2C%20%22fill%22%3A%20false%2C%20%22fillColor%22%3A%20%22%231f77b4%22%2C%20%22fillOpacity%22%3A%200.5%2C%20%22opacity%22%3A%201%2C%20%22weight%22%3A%202%7D%3B%0A%20%20%20%20%20%20%20%20%20%20%20%20%20%20%20%20default%3A%0A%20%20%20%20%20%20%20%20%20%20%20%20%20%20%20%20%20%20%20%20return%20%7B%22color%22%3A%20%22%239edae5%22%2C%20%22fill%22%3A%20false%2C%20%22fillColor%22%3A%20%22%239edae5%22%2C%20%22fillOpacity%22%3A%200.5%2C%20%22opacity%22%3A%201%2C%20%22weight%22%3A%202%7D%3B%0A%20%20%20%20%20%20%20%20%20%20%20%20%7D%0A%20%20%20%20%20%20%20%20%7D%0A%20%20%20%20%20%20%20%20function%20geo_json_34cb169d228c4caaa921e6045225369a_highlighter%28feature%29%20%7B%0A%20%20%20%20%20%20%20%20%20%20%20%20switch%28feature.id%29%20%7B%0A%20%20%20%20%20%20%20%20%20%20%20%20%20%20%20%20default%3A%0A%20%20%20%20%20%20%20%20%20%20%20%20%20%20%20%20%20%20%20%20return%20%7B%22fillOpacity%22%3A%200.75%7D%3B%0A%20%20%20%20%20%20%20%20%20%20%20%20%7D%0A%20%20%20%20%20%20%20%20%7D%0A%20%20%20%20%20%20%20%20function%20geo_json_34cb169d228c4caaa921e6045225369a_pointToLayer%28feature%2C%20latlng%29%20%7B%0A%20%20%20%20%20%20%20%20%20%20%20%20var%20opts%20%3D%20%7B%22bubblingMouseEvents%22%3A%20true%2C%20%22color%22%3A%20%22%233388ff%22%2C%20%22dashArray%22%3A%20null%2C%20%22dashOffset%22%3A%20null%2C%20%22fill%22%3A%20true%2C%20%22fillColor%22%3A%20%22%233388ff%22%2C%20%22fillOpacity%22%3A%200.2%2C%20%22fillRule%22%3A%20%22evenodd%22%2C%20%22lineCap%22%3A%20%22round%22%2C%20%22lineJoin%22%3A%20%22round%22%2C%20%22opacity%22%3A%201.0%2C%20%22radius%22%3A%202%2C%20%22stroke%22%3A%20true%2C%20%22weight%22%3A%203%7D%3B%0A%20%20%20%20%20%20%20%20%20%20%20%20%0A%20%20%20%20%20%20%20%20%20%20%20%20let%20style%20%3D%20geo_json_34cb169d228c4caaa921e6045225369a_styler%28feature%29%0A%20%20%20%20%20%20%20%20%20%20%20%20Object.assign%28opts%2C%20style%29%0A%20%20%20%20%20%20%20%20%20%20%20%20%0A%20%20%20%20%20%20%20%20%20%20%20%20return%20new%20L.CircleMarker%28latlng%2C%20opts%29%0A%20%20%20%20%20%20%20%20%7D%0A%0A%20%20%20%20%20%20%20%20function%20geo_json_34cb169d228c4caaa921e6045225369a_onEachFeature%28feature%2C%20layer%29%20%7B%0A%20%20%20%20%20%20%20%20%20%20%20%20layer.on%28%7B%0A%20%20%20%20%20%20%20%20%20%20%20%20%20%20%20%20mouseout%3A%20function%28e%29%20%7B%0A%20%20%20%20%20%20%20%20%20%20%20%20%20%20%20%20%20%20%20%20if%28typeof%20e.target.setStyle%20%3D%3D%3D%20%22function%22%29%7B%0A%20%20%20%20%20%20%20%20%20%20%20%20%20%20%20%20%20%20%20%20%20%20%20%20geo_json_34cb169d228c4caaa921e6045225369a.resetStyle%28e.target%29%3B%0A%20%20%20%20%20%20%20%20%20%20%20%20%20%20%20%20%20%20%20%20%7D%0A%20%20%20%20%20%20%20%20%20%20%20%20%20%20%20%20%7D%2C%0A%20%20%20%20%20%20%20%20%20%20%20%20%20%20%20%20mouseover%3A%20function%28e%29%20%7B%0A%20%20%20%20%20%20%20%20%20%20%20%20%20%20%20%20%20%20%20%20if%28typeof%20e.target.setStyle%20%3D%3D%3D%20%22function%22%29%7B%0A%20%20%20%20%20%20%20%20%20%20%20%20%20%20%20%20%20%20%20%20%20%20%20%20const%20highlightStyle%20%3D%20geo_json_34cb169d228c4caaa921e6045225369a_highlighter%28e.target.feature%29%0A%20%20%20%20%20%20%20%20%20%20%20%20%20%20%20%20%20%20%20%20%20%20%20%20e.target.setStyle%28highlightStyle%29%3B%0A%20%20%20%20%20%20%20%20%20%20%20%20%20%20%20%20%20%20%20%20%7D%0A%20%20%20%20%20%20%20%20%20%20%20%20%20%20%20%20%7D%2C%0A%20%20%20%20%20%20%20%20%20%20%20%20%7D%29%3B%0A%20%20%20%20%20%20%20%20%7D%3B%0A%20%20%20%20%20%20%20%20var%20geo_json_34cb169d228c4caaa921e6045225369a%20%3D%20L.geoJson%28null%2C%20%7B%0A%20%20%20%20%20%20%20%20%20%20%20%20%20%20%20%20onEachFeature%3A%20geo_json_34cb169d228c4caaa921e6045225369a_onEachFeature%2C%0A%20%20%20%20%20%20%20%20%20%20%20%20%0A%20%20%20%20%20%20%20%20%20%20%20%20%20%20%20%20style%3A%20geo_json_34cb169d228c4caaa921e6045225369a_styler%2C%0A%20%20%20%20%20%20%20%20%20%20%20%20%20%20%20%20pointToLayer%3A%20geo_json_34cb169d228c4caaa921e6045225369a_pointToLayer%0A%20%20%20%20%20%20%20%20%7D%29%3B%0A%0A%20%20%20%20%20%20%20%20function%20geo_json_34cb169d228c4caaa921e6045225369a_add%20%28data%29%20%7B%0A%20%20%20%20%20%20%20%20%20%20%20%20geo_json_34cb169d228c4caaa921e6045225369a%0A%20%20%20%20%20%20%20%20%20%20%20%20%20%20%20%20.addData%28data%29%0A%20%20%20%20%20%20%20%20%20%20%20%20%20%20%20%20.addTo%28map_61aa628adefc44a29ce008ff63ea51b7%29%3B%0A%20%20%20%20%20%20%20%20%7D%0A%20%20%20%20%20%20%20%20%20%20%20%20geo_json_34cb169d228c4caaa921e6045225369a_add%28%7B%22bbox%22%3A%20%5B34.716217%2C%2035.188095%2C%2039.975956%2C%2037.485878%5D%2C%20%22features%22%3A%20%5B%7B%22bbox%22%3A%20%5B36.815151%2C%2035.188095%2C%2039.975956%2C%2037.210876%5D%2C%20%22geometry%22%3A%20%7B%22coordinates%22%3A%20%5B%5B%5B39.648212%2C%2037.210876%5D%2C%20%5B39.975956%2C%2035.590313%5D%2C%20%5B37.203297%2C%2035.188095%5D%2C%20%5B36.815151%2C%2036.810291%5D%2C%20%5B39.648212%2C%2037.210876%5D%5D%5D%2C%20%22type%22%3A%20%22Polygon%22%7D%2C%20%22id%22%3A%20%220%22%2C%20%22properties%22%3A%20%7B%22__folium_color%22%3A%20%22%239edae5%22%2C%20%22fileID%22%3A%20%22S1A_IW_SLC__1SDV_20220516T152538_20220516T152605_043238_0529EF_C52D-SLC%22%7D%2C%20%22type%22%3A%20%22Feature%22%7D%2C%20%7B%22bbox%22%3A%20%5B35.470028%2C%2035.453819%2C%2038.658905%2C%2037.485878%5D%2C%20%22geometry%22%3A%20%7B%22coordinates%22%3A%20%5B%5B%5B35.470028%2C%2035.857964%5D%2C%20%5B35.799725%2C%2037.485878%5D%2C%20%5B38.658905%2C%2037.083344%5D%2C%20%5B38.267422%2C%2035.453819%5D%2C%20%5B35.470028%2C%2035.857964%5D%5D%5D%2C%20%22type%22%3A%20%22Polygon%22%7D%2C%20%22id%22%3A%20%221%22%2C%20%22properties%22%3A%20%7B%22__folium_color%22%3A%20%22%238c564b%22%2C%20%22fileID%22%3A%20%22S1A_IW_SLC__1SDV_20220510T033448_20220510T033515_043143_052712_916F-SLC%22%7D%2C%20%22type%22%3A%20%22Feature%22%7D%2C%20%7B%22bbox%22%3A%20%5B34.716217%2C%2035.295643%2C%2037.897587%2C%2037.376179%5D%2C%20%22geometry%22%3A%20%7B%22coordinates%22%3A%20%5B%5B%5B37.557861%2C%2037.376179%5D%2C%20%5B37.897587%2C%2035.698112%5D%2C%20%5B35.118961%2C%2035.295643%5D%2C%20%5B34.716217%2C%2036.97538%5D%2C%20%5B37.557861%2C%2037.376179%5D%5D%5D%2C%20%22type%22%3A%20%22Polygon%22%7D%2C%20%22id%22%3A%20%222%22%2C%20%22properties%22%3A%20%7B%22__folium_color%22%3A%20%22%231f77b4%22%2C%20%22fileID%22%3A%20%22S1A_IW_SLC__1SDV_20220509T153353_20220509T153421_043136_0526D2_2870-SLC%22%7D%2C%20%22type%22%3A%20%22Feature%22%7D%5D%2C%20%22type%22%3A%20%22FeatureCollection%22%7D%29%3B%0A%0A%20%20%20%20%20%20%20%20%0A%20%20%20%20%0A%20%20%20%20geo_json_34cb169d228c4caaa921e6045225369a.bindTooltip%28%0A%20%20%20%20function%28layer%29%7B%0A%20%20%20%20let%20div%20%3D%20L.DomUtil.create%28%27div%27%29%3B%0A%20%20%20%20%0A%20%20%20%20let%20handleObject%20%3D%20feature%3D%3Etypeof%28feature%29%3D%3D%27object%27%20%3F%20JSON.stringify%28feature%29%20%3A%20feature%3B%0A%20%20%20%20let%20fields%20%3D%20%5B%22fileID%22%5D%3B%0A%20%20%20%20let%20aliases%20%3D%20%5B%22fileID%22%5D%3B%0A%20%20%20%20let%20table%20%3D%20%27%3Ctable%3E%27%20%2B%0A%20%20%20%20%20%20%20%20String%28%0A%20%20%20%20%20%20%20%20fields.map%28%0A%20%20%20%20%20%20%20%20%28v%2Ci%29%3D%3E%0A%20%20%20%20%20%20%20%20%60%3Ctr%3E%0A%20%20%20%20%20%20%20%20%20%20%20%20%3Cth%3E%24%7Baliases%5Bi%5D%7D%3C/th%3E%0A%20%20%20%20%20%20%20%20%20%20%20%20%0A%20%20%20%20%20%20%20%20%20%20%20%20%3Ctd%3E%24%7BhandleObject%28layer.feature.properties%5Bv%5D%29%7D%3C/td%3E%0A%20%20%20%20%20%20%20%20%3C/tr%3E%60%29.join%28%27%27%29%29%0A%20%20%20%20%2B%27%3C/table%3E%27%3B%0A%20%20%20%20div.innerHTML%3Dtable%3B%0A%20%20%20%20%0A%20%20%20%20return%20div%0A%20%20%20%20%7D%0A%20%20%20%20%2C%7B%22className%22%3A%20%22foliumtooltip%22%2C%20%22sticky%22%3A%20true%7D%29%3B%0A%20%20%20%20%20%20%20%20%20%20%20%20%20%20%20%20%20%20%20%20%20%0A%3C/script%3E onload=\"this.contentDocument.open();this.contentDocument.write(    decodeURIComponent(this.getAttribute('data-html')));this.contentDocument.close();\" allowfullscreen webkitallowfullscreen mozallowfullscreen></iframe></div></div>"
      ],
      "text/plain": [
       "<folium.folium.Map at 0x17eac9b40>"
      ]
     },
     "execution_count": 226,
     "metadata": {},
     "output_type": "execute_result"
    }
   ],
   "source": [
    "\n",
    "mapa = folium.Map([36.207522, 37.154076],\n",
    "                zoom_start=7,\n",
    "                  tiles='cartodbpositron')\n",
    "gdf.iloc[0:3].explore(m = mapa, \n",
    "            column = 'fileID',\n",
    "           style_kwds = {'opacity': 1, 'fill': False})"
   ]
  },
  {
   "cell_type": "code",
   "execution_count": 218,
   "id": "8b6c68d9-939c-47ec-b9b8-ec30e40e2ac7",
   "metadata": {},
   "outputs": [
    {
     "data": {
      "text/plain": [
       "\u001b[0;31mSignature:\u001b[0m \u001b[0mgdf\u001b[0m\u001b[0;34m.\u001b[0m\u001b[0mexplore\u001b[0m\u001b[0;34m(\u001b[0m\u001b[0;34m*\u001b[0m\u001b[0margs\u001b[0m\u001b[0;34m,\u001b[0m \u001b[0;34m**\u001b[0m\u001b[0mkwargs\u001b[0m\u001b[0;34m)\u001b[0m\u001b[0;34m\u001b[0m\u001b[0;34m\u001b[0m\u001b[0m\n",
       "\u001b[0;31mDocstring:\u001b[0m\n",
       "Interactive map based on folium/leaflet.jsInteractive map based on GeoPandas and folium/leaflet.js\n",
       "\n",
       "Generate an interactive leaflet map based on :class:`~geopandas.GeoDataFrame`\n",
       "\n",
       "Parameters\n",
       "----------\n",
       "column : str, np.array, pd.Series (default None)\n",
       "    The name of the dataframe column, :class:`numpy.array`,\n",
       "    or :class:`pandas.Series` to be plotted. If :class:`numpy.array` or\n",
       "    :class:`pandas.Series` are used then it must have same length as dataframe.\n",
       "cmap : str, matplotlib.Colormap, branca.colormap or function (default None)\n",
       "    The name of a colormap recognized by ``matplotlib``, a list-like of colors,\n",
       "    :class:`matplotlib.colors.Colormap`, a :class:`branca.colormap.ColorMap` or\n",
       "    function that returns a named color or hex based on the column\n",
       "    value, e.g.::\n",
       "\n",
       "        def my_colormap(value):  # scalar value defined in 'column'\n",
       "            if value > 1:\n",
       "                return \"green\"\n",
       "            return \"red\"\n",
       "\n",
       "color : str, array-like (default None)\n",
       "    Named color or a list-like of colors (named or hex).\n",
       "m : folium.Map (default None)\n",
       "    Existing map instance on which to draw the plot.\n",
       "tiles : str, xyzservices.TileProvider (default 'OpenStreetMap Mapnik')\n",
       "    Map tileset to use. Can choose from the list supported by folium, query a\n",
       "    :class:`xyzservices.TileProvider` by a name from ``xyzservices.providers``,\n",
       "    pass :class:`xyzservices.TileProvider` object or pass custom XYZ URL.\n",
       "    The current list of built-in providers (when ``xyzservices`` is not available):\n",
       "\n",
       "    ``[\"OpenStreetMap\", \"Stamen Terrain\", “Stamen Toner\", “Stamen Watercolor\"\n",
       "    \"CartoDB positron\", “CartoDB dark_matter\"]``\n",
       "\n",
       "    You can pass a custom tileset to Folium by passing a Leaflet-style URL\n",
       "    to the tiles parameter: ``http://{s}.yourtiles.com/{z}/{x}/{y}.png``.\n",
       "    Be sure to check their terms and conditions and to provide attribution with\n",
       "    the ``attr`` keyword.\n",
       "attr : str (default None)\n",
       "    Map tile attribution; only required if passing custom tile URL.\n",
       "tooltip : bool, str, int, list (default True)\n",
       "    Display GeoDataFrame attributes when hovering over the object.\n",
       "    ``True`` includes all columns. ``False`` removes tooltip. Pass string or list of\n",
       "    strings to specify a column(s). Integer specifies first n columns to be\n",
       "    included. Defaults to ``True``.\n",
       "popup : bool, str, int, list (default False)\n",
       "    Input GeoDataFrame attributes for object displayed when clicking.\n",
       "    ``True`` includes all columns. ``False`` removes popup. Pass string or list of\n",
       "    strings to specify a column(s). Integer specifies first n columns to be\n",
       "    included. Defaults to ``False``.\n",
       "highlight : bool (default True)\n",
       "    Enable highlight functionality when hovering over a geometry.\n",
       "categorical : bool (default False)\n",
       "    If ``False``, ``cmap`` will reflect numerical values of the\n",
       "    column being plotted. For non-numerical columns, this\n",
       "    will be set to True.\n",
       "legend : bool (default True)\n",
       "    Plot a legend in choropleth plots.\n",
       "    Ignored if no ``column`` is given.\n",
       "scheme : str (default None)\n",
       "    Name of a choropleth classification scheme (requires ``mapclassify`` >= 2.4.0).\n",
       "    A :func:`mapclassify.classify` will be used\n",
       "    under the hood. Supported are all schemes provided by ``mapclassify`` (e.g.\n",
       "    ``'BoxPlot'``, ``'EqualInterval'``, ``'FisherJenks'``, ``'FisherJenksSampled'``,\n",
       "    ``'HeadTailBreaks'``, ``'JenksCaspall'``, ``'JenksCaspallForced'``,\n",
       "    ``'JenksCaspallSampled'``, ``'MaxP'``, ``'MaximumBreaks'``,\n",
       "    ``'NaturalBreaks'``, ``'Quantiles'``, ``'Percentiles'``, ``'StdMean'``,\n",
       "    ``'UserDefined'``). Arguments can be passed in ``classification_kwds``.\n",
       "k : int (default 5)\n",
       "    Number of classes\n",
       "vmin : None or float (default None)\n",
       "    Minimum value of ``cmap``. If ``None``, the minimum data value\n",
       "    in the column to be plotted is used.\n",
       "vmax : None or float (default None)\n",
       "    Maximum value of ``cmap``. If ``None``, the maximum data value\n",
       "    in the column to be plotted is used.\n",
       "width : pixel int or percentage string (default: '100%')\n",
       "    Width of the folium :class:`~folium.folium.Map`. If the argument\n",
       "    m is given explicitly, width is ignored.\n",
       "height : pixel int or percentage string (default: '100%')\n",
       "    Height of the folium :class:`~folium.folium.Map`. If the argument\n",
       "    m is given explicitly, height is ignored.\n",
       "categories : list-like\n",
       "    Ordered list-like object of categories to be used for categorical plot.\n",
       "classification_kwds : dict (default None)\n",
       "    Keyword arguments to pass to mapclassify\n",
       "control_scale : bool, (default True)\n",
       "    Whether to add a control scale on the map.\n",
       "marker_type : str, folium.Circle, folium.CircleMarker, folium.Marker (default None)\n",
       "    Allowed string options are ('marker', 'circle', 'circle_marker'). Defaults to\n",
       "    folium.CircleMarker.\n",
       "marker_kwds: dict (default {})\n",
       "    Additional keywords to be passed to the selected ``marker_type``, e.g.:\n",
       "\n",
       "    radius : float (default 2 for ``circle_marker`` and 50 for ``circle``))\n",
       "        Radius of the circle, in meters (for ``circle``) or pixels\n",
       "        (for ``circle_marker``).\n",
       "    fill : bool (default True)\n",
       "        Whether to fill the ``circle`` or ``circle_marker`` with color.\n",
       "    icon : folium.map.Icon\n",
       "        the :class:`folium.map.Icon` object to use to render the marker.\n",
       "    draggable : bool (default False)\n",
       "        Set to True to be able to drag the marker around the map.\n",
       "\n",
       "style_kwds : dict (default {})\n",
       "    Additional style to be passed to folium ``style_function``:\n",
       "\n",
       "    stroke : bool (default True)\n",
       "        Whether to draw stroke along the path. Set it to ``False`` to\n",
       "        disable borders on polygons or circles.\n",
       "    color : str\n",
       "        Stroke color\n",
       "    weight : int\n",
       "        Stroke width in pixels\n",
       "    opacity : float (default 1.0)\n",
       "        Stroke opacity\n",
       "    fill : boolean (default True)\n",
       "        Whether to fill the path with color. Set it to ``False`` to\n",
       "        disable filling on polygons or circles.\n",
       "    fillColor : str\n",
       "        Fill color. Defaults to the value of the color option\n",
       "    fillOpacity : float (default 0.5)\n",
       "        Fill opacity.\n",
       "\n",
       "    Plus all supported by :func:`folium.vector_layers.path_options`. See the\n",
       "    documentation of :class:`folium.features.GeoJson` for details.\n",
       "\n",
       "highlight_kwds : dict (default {})\n",
       "    Style to be passed to folium highlight_function. Uses the same keywords\n",
       "    as ``style_kwds``. When empty, defaults to ``{\"fillOpacity\": 0.75}``.\n",
       "tooltip_kwds : dict (default {})\n",
       "    Additional keywords to be passed to :class:`folium.features.GeoJsonTooltip`,\n",
       "    e.g. ``aliases``, ``labels``, or ``sticky``.\n",
       "popup_kwds : dict (default {})\n",
       "    Additional keywords to be passed to :class:`folium.features.GeoJsonPopup`,\n",
       "    e.g. ``aliases`` or ``labels``.\n",
       "legend_kwds : dict (default {})\n",
       "    Additional keywords to be passed to the legend.\n",
       "\n",
       "    Currently supported customisation:\n",
       "\n",
       "    caption : string\n",
       "        Custom caption of the legend. Defaults to the column name.\n",
       "\n",
       "    Additional accepted keywords when ``scheme`` is specified:\n",
       "\n",
       "    colorbar : bool (default True)\n",
       "        An option to control the style of the legend. If True, continuous\n",
       "        colorbar will be used. If False, categorical legend will be used for bins.\n",
       "    scale : bool (default True)\n",
       "        Scale bins along the colorbar axis according to the bin edges (True)\n",
       "        or use the equal length for each bin (False)\n",
       "    fmt : string (default \"{:.2f}\")\n",
       "        A formatting specification for the bin edges of the classes in the\n",
       "        legend. For example, to have no decimals: ``{\"fmt\": \"{:.0f}\"}``. Applies\n",
       "        if ``colorbar=False``.\n",
       "    labels : list-like\n",
       "        A list of legend labels to override the auto-generated labels.\n",
       "        Needs to have the same number of elements as the number of\n",
       "        classes (`k`). Applies if ``colorbar=False``.\n",
       "    interval : boolean (default False)\n",
       "        An option to control brackets from mapclassify legend.\n",
       "        If True, open/closed interval brackets are shown in the legend.\n",
       "        Applies if ``colorbar=False``.\n",
       "    max_labels : int, default 10\n",
       "        Maximum number of colorbar tick labels (requires branca>=0.5.0)\n",
       "\n",
       "**kwargs : dict\n",
       "    Additional options to be passed on to the folium object.\n",
       "\n",
       "Returns\n",
       "-------\n",
       "m : folium.folium.Map\n",
       "    folium :class:`~folium.folium.Map` instance\n",
       "\n",
       "Examples\n",
       "--------\n",
       ">>> df = geopandas.read_file(geopandas.datasets.get_path(\"naturalearth_lowres\"))\n",
       ">>> df.head(2)  # doctest: +SKIP\n",
       "    pop_est      continent                      name iso_a3  gdp_md_est                                           geometry\n",
       "0     920938        Oceania                      Fiji    FJI      8374.0  MULTIPOLYGON (((180.00000 -16.06713, 180.00000...\n",
       "1   53950935         Africa                  Tanzania    TZA    150600.0  POLYGON ((33.90371 -0.95000, 34.07262 -1.05982...\n",
       "\n",
       ">>> df.explore(\"pop_est\", cmap=\"Blues\")  # doctest: +SKIP\n",
       "\u001b[0;31mFile:\u001b[0m      /opt/miniconda3/envs/research/lib/python3.10/site-packages/geopandas/geodataframe.py\n",
       "\u001b[0;31mType:\u001b[0m      method\n"
      ]
     },
     "metadata": {},
     "output_type": "display_data"
    }
   ],
   "source": [
    "gdf.explore?"
   ]
  },
  {
   "cell_type": "code",
   "execution_count": null,
   "id": "e15640a4-6e68-43d6-aa68-f7b7869831b5",
   "metadata": {},
   "outputs": [],
   "source": []
  }
 ],
 "metadata": {
  "kernelspec": {
   "display_name": "Python 3 (ipykernel)",
   "language": "python",
   "name": "python3"
  },
  "language_info": {
   "codemirror_mode": {
    "name": "ipython",
    "version": 3
   },
   "file_extension": ".py",
   "mimetype": "text/x-python",
   "name": "python",
   "nbconvert_exporter": "python",
   "pygments_lexer": "ipython3",
   "version": "3.10.4"
  }
 },
 "nbformat": 4,
 "nbformat_minor": 5
}
