{
 "cells": [
  {
   "cell_type": "markdown",
   "id": "addc332e",
   "metadata": {},
   "source": [
    "<center><img src=\"Slide1.png\" width = \"800\"/></center>"
   ]
  },
  {
   "cell_type": "markdown",
   "id": "7670589d",
   "metadata": {},
   "source": [
    "### <b> InSAR Coherent Change Detection over Aleppo, Syria (Sep - Oct 2016)\n",
    "    \n",
    "<b><i> Corey Scher<sup>1</sup>\n",
    "<i>Jamon Van Den Hoek<sup>2</sup>\n",
    "    \n",
    "<i><font size=2> 1. Department of Earth and Environmental Sciences | Graduate Center at the City University of New York\n",
    "    \n",
    "<i><font size=2> 2. College of Earth, Ocean, and Atmospheric Sciences | Oregon State University"
   ]
  },
  {
   "cell_type": "markdown",
   "id": "c72110a2",
   "metadata": {},
   "source": [
    "### Introduction\n",
    "\n",
    "   In this training we will walk through an example of bi-temporal coherent change detection over Aleppo, Syria to map proxies for urban damage that occurred as a result of air bombardments in September-October of 2016. We will be using the [Alaska Satellite Facility's](https://asf.alaska.edu/) [Vertex tool](https://search.asf.alaska.edu/#/) to generate two synthetic aperture radar [interferogram](https://appliedsciences.nasa.gov/sites/default/files/Session4-SAR-English_0.pdf) (InSAR) datasets to look for anomalous decreases in InSAR measurements of [coherence](https://en.wikipedia.org/wiki/Coherence_(physics) that occurred following a series of airstrike bombardments. This workflow can be completed either using the ASF [Hyp3 Python SDK](https://hyp3-docs.asf.alaska.edu/), as we will demonstrate in this notebook, or by generating InSAR coherence images manually using the ASF Vertex [user interface](https://search.asf.alaska.edu/#/) and raster band math in a geographic information system interface, such as [QGIS](https://www.qgis.org/en/site/)."
   ]
  },
  {
   "cell_type": "code",
   "execution_count": 2,
   "id": "ff923724",
   "metadata": {},
   "outputs": [],
   "source": [
    "import os\n",
    "import folium\n",
    "#import rioxarray\n",
    "import shapely.wkt\n",
    "import pandas as pd\n",
    "import xarray as xr\n",
    "import asf_search as asf\n",
    "from hyp3_sdk import HyP3\n",
    "import shapely.geometry as shp\n",
    "import matplotlib.pyplot as plt"
   ]
  },
  {
   "cell_type": "code",
   "execution_count": 657,
   "id": "48bb976b",
   "metadata": {},
   "outputs": [],
   "source": [
    "#Define and area of interest as WKT over Aleppo, Syria\n",
    "aoi = shapely.wkt.loads(\"POLYGON((37.0072 36.091, \\\n",
    "                        37.3326 36.091,37.3326 36.3183, \\\n",
    "                        37.0072 36.3183,37.0072 36.091))\")\n",
    "\n",
    "# Translate to geojson for quick addition to interactrive Folium maps\n",
    "geo_j = folium.GeoJson(data=gpd.GeoSeries(aoi).to_json())"
   ]
  },
  {
   "cell_type": "code",
   "execution_count": 689,
   "id": "2dfb04a8",
   "metadata": {},
   "outputs": [],
   "source": [
    "# Import credentials from .config file\n",
    "# The .config file is omitted from GitHub. \n",
    "# You can simply skip this step and enter your ASF Vertex username and password directly in the next cell\n",
    "\n",
    "credentials = pd.read_csv('/Users/coreyscher/Documents/GitHub/arset/hyp3.config', \n",
    "                          header = None, \n",
    "                          names = ['names', 'values']).set_index('names')"
   ]
  },
  {
   "cell_type": "code",
   "execution_count": 690,
   "id": "b4e07d41",
   "metadata": {},
   "outputs": [],
   "source": [
    "# Authenticate to Hyp3 \n",
    "hyp3 = HyP3(username=credentials.loc['username'][0], \n",
    "            password=credentials.loc['password'][0])"
   ]
  },
  {
   "cell_type": "code",
   "execution_count": 487,
   "id": "0fd65cc0",
   "metadata": {
    "tags": []
   },
   "outputs": [],
   "source": [
    "# Let's define a bounding box area with well known text\n",
    "\n",
    "wkt = \"POLYGON((37.0072 36.091,37.3326 36.091,37.3326 36.3183,37.0072 36.3183,37.0072 36.091))\"\n",
    "\n",
    "# Search ASF vertex for Sentinel-1 SLC scenesover the WKT region, \n",
    "# Return only 100 results until September, 5 2016\n",
    "results = asf.geo_search(platform=[asf.PLATFORM.SENTINEL1], \n",
    "                         intersectsWith=wkt, \n",
    "                         maxResults=100,\n",
    "                        processingLevel = 'SLC',\n",
    "                        end = '2016-09-05').data\n"
   ]
  },
  {
   "cell_type": "code",
   "execution_count": 637,
   "id": "a0c4524a",
   "metadata": {},
   "outputs": [],
   "source": [
    "# Function to translate Sentinel-1 swath footprint text into a shapely polygon and return alongside the fileID\n",
    "\n",
    "def addFootprint(result):\n",
    "    props = result.properties\n",
    "    date = pd.to_datetime(props['startTime'])\n",
    "    footprint = shp.Polygon(result.geometry['coordinates'][0])\n",
    "    fid = props['fileID']\n",
    "    \n",
    "    return fid, footprint"
   ]
  },
  {
   "cell_type": "code",
   "execution_count": 639,
   "id": "ad041a70",
   "metadata": {},
   "outputs": [],
   "source": [
    "# Map the function to create a list of footprints and file IDs\n",
    "# Turn that list into a dataframe for easy indexing\n",
    "\n",
    "gdf = gpd.GeoDataFrame(list(map(addFootprint, results)), \n",
    "                       columns = ['fileID',  'geometry'])\n"
   ]
  },
  {
   "cell_type": "code",
   "execution_count": 656,
   "id": "5d3991c1",
   "metadata": {},
   "outputs": [
    {
     "data": {
      "text/html": [
       "<div style=\"width:100%;\"><div style=\"position:relative;width:100%;height:0;padding-bottom:60%;\"><span style=\"color:#565656\">Make this Notebook Trusted to load map: File -> Trust Notebook</span><iframe src=\"about:blank\" style=\"position:absolute;width:100%;height:100%;left:0;top:0;border:none !important;\" data-html=%3C%21DOCTYPE%20html%3E%0A%3Chead%3E%20%20%20%20%0A%20%20%20%20%3Cmeta%20http-equiv%3D%22content-type%22%20content%3D%22text/html%3B%20charset%3DUTF-8%22%20/%3E%0A%20%20%20%20%0A%20%20%20%20%20%20%20%20%3Cscript%3E%0A%20%20%20%20%20%20%20%20%20%20%20%20L_NO_TOUCH%20%3D%20false%3B%0A%20%20%20%20%20%20%20%20%20%20%20%20L_DISABLE_3D%20%3D%20false%3B%0A%20%20%20%20%20%20%20%20%3C/script%3E%0A%20%20%20%20%0A%20%20%20%20%3Cstyle%3Ehtml%2C%20body%20%7Bwidth%3A%20100%25%3Bheight%3A%20100%25%3Bmargin%3A%200%3Bpadding%3A%200%3B%7D%3C/style%3E%0A%20%20%20%20%3Cstyle%3E%23map%20%7Bposition%3Aabsolute%3Btop%3A0%3Bbottom%3A0%3Bright%3A0%3Bleft%3A0%3B%7D%3C/style%3E%0A%20%20%20%20%3Cscript%20src%3D%22https%3A//cdn.jsdelivr.net/npm/leaflet%401.6.0/dist/leaflet.js%22%3E%3C/script%3E%0A%20%20%20%20%3Cscript%20src%3D%22https%3A//code.jquery.com/jquery-1.12.4.min.js%22%3E%3C/script%3E%0A%20%20%20%20%3Cscript%20src%3D%22https%3A//maxcdn.bootstrapcdn.com/bootstrap/3.2.0/js/bootstrap.min.js%22%3E%3C/script%3E%0A%20%20%20%20%3Cscript%20src%3D%22https%3A//cdnjs.cloudflare.com/ajax/libs/Leaflet.awesome-markers/2.0.2/leaflet.awesome-markers.js%22%3E%3C/script%3E%0A%20%20%20%20%3Clink%20rel%3D%22stylesheet%22%20href%3D%22https%3A//cdn.jsdelivr.net/npm/leaflet%401.6.0/dist/leaflet.css%22/%3E%0A%20%20%20%20%3Clink%20rel%3D%22stylesheet%22%20href%3D%22https%3A//maxcdn.bootstrapcdn.com/bootstrap/3.2.0/css/bootstrap.min.css%22/%3E%0A%20%20%20%20%3Clink%20rel%3D%22stylesheet%22%20href%3D%22https%3A//maxcdn.bootstrapcdn.com/bootstrap/3.2.0/css/bootstrap-theme.min.css%22/%3E%0A%20%20%20%20%3Clink%20rel%3D%22stylesheet%22%20href%3D%22https%3A//maxcdn.bootstrapcdn.com/font-awesome/4.6.3/css/font-awesome.min.css%22/%3E%0A%20%20%20%20%3Clink%20rel%3D%22stylesheet%22%20href%3D%22https%3A//cdnjs.cloudflare.com/ajax/libs/Leaflet.awesome-markers/2.0.2/leaflet.awesome-markers.css%22/%3E%0A%20%20%20%20%3Clink%20rel%3D%22stylesheet%22%20href%3D%22https%3A//cdn.jsdelivr.net/gh/python-visualization/folium/folium/templates/leaflet.awesome.rotate.min.css%22/%3E%0A%20%20%20%20%0A%20%20%20%20%20%20%20%20%20%20%20%20%3Cmeta%20name%3D%22viewport%22%20content%3D%22width%3Ddevice-width%2C%0A%20%20%20%20%20%20%20%20%20%20%20%20%20%20%20%20initial-scale%3D1.0%2C%20maximum-scale%3D1.0%2C%20user-scalable%3Dno%22%20/%3E%0A%20%20%20%20%20%20%20%20%20%20%20%20%3Cstyle%3E%0A%20%20%20%20%20%20%20%20%20%20%20%20%20%20%20%20%23map_0e4c4906a8c14bb3a51a4022931722c0%20%7B%0A%20%20%20%20%20%20%20%20%20%20%20%20%20%20%20%20%20%20%20%20position%3A%20relative%3B%0A%20%20%20%20%20%20%20%20%20%20%20%20%20%20%20%20%20%20%20%20width%3A%20100.0%25%3B%0A%20%20%20%20%20%20%20%20%20%20%20%20%20%20%20%20%20%20%20%20height%3A%20100.0%25%3B%0A%20%20%20%20%20%20%20%20%20%20%20%20%20%20%20%20%20%20%20%20left%3A%200.0%25%3B%0A%20%20%20%20%20%20%20%20%20%20%20%20%20%20%20%20%20%20%20%20top%3A%200.0%25%3B%0A%20%20%20%20%20%20%20%20%20%20%20%20%20%20%20%20%7D%0A%20%20%20%20%20%20%20%20%20%20%20%20%3C/style%3E%0A%20%20%20%20%20%20%20%20%0A%20%20%20%20%0A%20%20%20%20%20%20%20%20%20%20%20%20%20%20%20%20%20%20%20%20%3Cstyle%3E%0A%20%20%20%20%20%20%20%20%20%20%20%20%20%20%20%20%20%20%20%20%20%20%20%20.foliumtooltip%20%7B%0A%20%20%20%20%20%20%20%20%20%20%20%20%20%20%20%20%20%20%20%20%20%20%20%20%20%20%20%20%0A%20%20%20%20%20%20%20%20%20%20%20%20%20%20%20%20%20%20%20%20%20%20%20%20%7D%0A%20%20%20%20%20%20%20%20%20%20%20%20%20%20%20%20%20%20%20%20%20%20%20.foliumtooltip%20table%7B%0A%20%20%20%20%20%20%20%20%20%20%20%20%20%20%20%20%20%20%20%20%20%20%20%20%20%20%20%20margin%3A%20auto%3B%0A%20%20%20%20%20%20%20%20%20%20%20%20%20%20%20%20%20%20%20%20%20%20%20%20%7D%0A%20%20%20%20%20%20%20%20%20%20%20%20%20%20%20%20%20%20%20%20%20%20%20%20.foliumtooltip%20tr%7B%0A%20%20%20%20%20%20%20%20%20%20%20%20%20%20%20%20%20%20%20%20%20%20%20%20%20%20%20%20text-align%3A%20left%3B%0A%20%20%20%20%20%20%20%20%20%20%20%20%20%20%20%20%20%20%20%20%20%20%20%20%7D%0A%20%20%20%20%20%20%20%20%20%20%20%20%20%20%20%20%20%20%20%20%20%20%20%20.foliumtooltip%20th%7B%0A%20%20%20%20%20%20%20%20%20%20%20%20%20%20%20%20%20%20%20%20%20%20%20%20%20%20%20%20padding%3A%202px%3B%20padding-right%3A%208px%3B%0A%20%20%20%20%20%20%20%20%20%20%20%20%20%20%20%20%20%20%20%20%20%20%20%20%7D%0A%20%20%20%20%20%20%20%20%20%20%20%20%20%20%20%20%20%20%20%20%3C/style%3E%0A%20%20%20%20%20%20%20%20%20%20%20%20%0A%20%20%20%20%0A%20%20%20%20%3Cscript%20src%3D%22https%3A//code.jquery.com/ui/1.12.1/jquery-ui.js%22%3E%3C/script%3E%0A%20%20%20%20%3Cscript%3E%24%28%20function%28%29%20%7B%0A%20%20%20%20%20%20%20%20%24%28%20%22.maplegend%22%20%29.draggable%28%7B%0A%20%20%20%20%20%20%20%20%20%20%20%20start%3A%20function%20%28event%2C%20ui%29%20%7B%0A%20%20%20%20%20%20%20%20%20%20%20%20%20%20%20%20%24%28this%29.css%28%7B%0A%20%20%20%20%20%20%20%20%20%20%20%20%20%20%20%20%20%20%20%20right%3A%20%22auto%22%2C%0A%20%20%20%20%20%20%20%20%20%20%20%20%20%20%20%20%20%20%20%20top%3A%20%22auto%22%2C%0A%20%20%20%20%20%20%20%20%20%20%20%20%20%20%20%20%20%20%20%20bottom%3A%20%22auto%22%0A%20%20%20%20%20%20%20%20%20%20%20%20%20%20%20%20%7D%29%3B%0A%20%20%20%20%20%20%20%20%20%20%20%20%7D%0A%20%20%20%20%20%20%20%20%7D%29%3B%0A%20%20%20%20%7D%29%3B%0A%20%20%20%20%3C/script%3E%0A%20%20%20%20%3Cstyle%20type%3D%27text/css%27%3E%0A%20%20%20%20%20%20.maplegend%20%7B%0A%20%20%20%20%20%20%20%20position%3A%20absolute%3B%0A%20%20%20%20%20%20%20%20z-index%3A9999%3B%0A%20%20%20%20%20%20%20%20background-color%3A%20rgba%28255%2C%20255%2C%20255%2C%20.8%29%3B%0A%20%20%20%20%20%20%20%20border-radius%3A%205px%3B%0A%20%20%20%20%20%20%20%20box-shadow%3A%200%200%2015px%20rgba%280%2C0%2C0%2C0.2%29%3B%0A%20%20%20%20%20%20%20%20padding%3A%2010px%3B%0A%20%20%20%20%20%20%20%20font%3A%2012px/14px%20Arial%2C%20Helvetica%2C%20sans-serif%3B%0A%20%20%20%20%20%20%20%20right%3A%2010px%3B%0A%20%20%20%20%20%20%20%20bottom%3A%2020px%3B%0A%20%20%20%20%20%20%7D%0A%20%20%20%20%20%20.maplegend%20.legend-title%20%7B%0A%20%20%20%20%20%20%20%20text-align%3A%20left%3B%0A%20%20%20%20%20%20%20%20margin-bottom%3A%205px%3B%0A%20%20%20%20%20%20%20%20font-weight%3A%20bold%3B%0A%20%20%20%20%20%20%20%20%7D%0A%20%20%20%20%20%20.maplegend%20.legend-scale%20ul%20%7B%0A%20%20%20%20%20%20%20%20margin%3A%200%3B%0A%20%20%20%20%20%20%20%20margin-bottom%3A%200px%3B%0A%20%20%20%20%20%20%20%20padding%3A%200%3B%0A%20%20%20%20%20%20%20%20float%3A%20left%3B%0A%20%20%20%20%20%20%20%20list-style%3A%20none%3B%0A%20%20%20%20%20%20%20%20%7D%0A%20%20%20%20%20%20.maplegend%20.legend-scale%20ul%20li%20%7B%0A%20%20%20%20%20%20%20%20list-style%3A%20none%3B%0A%20%20%20%20%20%20%20%20margin-left%3A%200%3B%0A%20%20%20%20%20%20%20%20line-height%3A%2016px%3B%0A%20%20%20%20%20%20%20%20margin-bottom%3A%202px%3B%0A%20%20%20%20%20%20%20%20%7D%0A%20%20%20%20%20%20.maplegend%20ul.legend-labels%20li%20span%20%7B%0A%20%20%20%20%20%20%20%20display%3A%20block%3B%0A%20%20%20%20%20%20%20%20float%3A%20left%3B%0A%20%20%20%20%20%20%20%20height%3A%2014px%3B%0A%20%20%20%20%20%20%20%20width%3A%2014px%3B%0A%20%20%20%20%20%20%20%20margin-right%3A%205px%3B%0A%20%20%20%20%20%20%20%20margin-left%3A%200%3B%0A%20%20%20%20%20%20%20%20border%3A%200px%20solid%20%23ccc%3B%0A%20%20%20%20%20%20%20%20%7D%0A%20%20%20%20%20%20.maplegend%20.legend-source%20%7B%0A%20%20%20%20%20%20%20%20color%3A%20%23777%3B%0A%20%20%20%20%20%20%20%20clear%3A%20both%3B%0A%20%20%20%20%20%20%20%20%7D%0A%20%20%20%20%20%20.maplegend%20a%20%7B%0A%20%20%20%20%20%20%20%20color%3A%20%23777%3B%0A%20%20%20%20%20%20%20%20%7D%0A%20%20%20%20%3C/style%3E%0A%20%20%20%20%0A%3C/head%3E%0A%3Cbody%3E%20%20%20%20%0A%20%20%20%20%0A%20%20%20%20%3Cdiv%20id%3D%27maplegend%20fileID%27%20class%3D%27maplegend%27%3E%0A%20%20%20%20%20%20%20%20%3Cdiv%20class%3D%27legend-title%27%3EfileID%3C/div%3E%0A%20%20%20%20%20%20%20%20%3Cdiv%20class%3D%27legend-scale%27%3E%0A%20%20%20%20%20%20%20%20%20%20%20%20%3Cul%20class%3D%27legend-labels%27%3E%0A%20%20%20%20%20%20%20%20%20%20%20%20%20%20%20%20%3Cli%3E%3Cspan%20style%3D%27background%3A%231f77b4%27%3E%3C/span%3ES1A_IW_SLC__1SDV_20160820T153326_20160820T153354_012686_013EEE_607E-SLC%3C/li%3E%0A%20%20%20%20%20%20%20%20%20%20%20%20%20%20%20%20%3Cli%3E%3Cspan%20style%3D%27background%3A%2398df8a%27%3E%3C/span%3ES1A_IW_SLC__1SDV_20160821T033420_20160821T033447_012693_013F2C_3748-SLC%3C/li%3E%0A%20%20%20%20%20%20%20%20%20%20%20%20%20%20%20%20%3Cli%3E%3Cspan%20style%3D%27background%3A%238c564b%27%3E%3C/span%3ES1A_IW_SLC__1SDV_20160827T152508_20160827T152535_012788_014268_64B0-SLC%3C/li%3E%0A%20%20%20%20%20%20%20%20%20%20%20%20%20%20%20%20%3Cli%3E%3Cspan%20style%3D%27background%3A%23c7c7c7%27%3E%3C/span%3ES1A_IW_SLC__1SDV_20160901T153326_20160901T153354_012861_0144DB_3CCF-SLC%3C/li%3E%0A%20%20%20%20%20%20%20%20%20%20%20%20%20%20%20%20%3Cli%3E%3Cspan%20style%3D%27background%3A%239edae5%27%3E%3C/span%3ES1A_IW_SLC__1SDV_20160902T033420_20160902T033447_012868_01451F_0B2F-SLC%3C/li%3E%0A%20%20%20%20%20%20%20%20%20%20%20%20%3C/ul%3E%0A%20%20%20%20%20%20%20%20%3C/div%3E%0A%20%20%20%20%3C/div%3E%0A%20%20%20%20%0A%20%20%20%20%0A%20%20%20%20%20%20%20%20%20%20%20%20%3Cdiv%20class%3D%22folium-map%22%20id%3D%22map_0e4c4906a8c14bb3a51a4022931722c0%22%20%3E%3C/div%3E%0A%20%20%20%20%20%20%20%20%0A%3C/body%3E%0A%3Cscript%3E%20%20%20%20%0A%20%20%20%20%0A%20%20%20%20%20%20%20%20%20%20%20%20var%20map_0e4c4906a8c14bb3a51a4022931722c0%20%3D%20L.map%28%0A%20%20%20%20%20%20%20%20%20%20%20%20%20%20%20%20%22map_0e4c4906a8c14bb3a51a4022931722c0%22%2C%0A%20%20%20%20%20%20%20%20%20%20%20%20%20%20%20%20%7B%0A%20%20%20%20%20%20%20%20%20%20%20%20%20%20%20%20%20%20%20%20center%3A%20%5B36.207522%2C%2037.154076%5D%2C%0A%20%20%20%20%20%20%20%20%20%20%20%20%20%20%20%20%20%20%20%20crs%3A%20L.CRS.EPSG3857%2C%0A%20%20%20%20%20%20%20%20%20%20%20%20%20%20%20%20%20%20%20%20zoom%3A%207%2C%0A%20%20%20%20%20%20%20%20%20%20%20%20%20%20%20%20%20%20%20%20zoomControl%3A%20true%2C%0A%20%20%20%20%20%20%20%20%20%20%20%20%20%20%20%20%20%20%20%20preferCanvas%3A%20false%2C%0A%20%20%20%20%20%20%20%20%20%20%20%20%20%20%20%20%7D%0A%20%20%20%20%20%20%20%20%20%20%20%20%29%3B%0A%0A%20%20%20%20%20%20%20%20%20%20%20%20%0A%0A%20%20%20%20%20%20%20%20%0A%20%20%20%20%0A%20%20%20%20%20%20%20%20%20%20%20%20var%20tile_layer_55a565fb02b84c1fa46ad399432d8218%20%3D%20L.tileLayer%28%0A%20%20%20%20%20%20%20%20%20%20%20%20%20%20%20%20%22https%3A//cartodb-basemaps-%7Bs%7D.global.ssl.fastly.net/light_all/%7Bz%7D/%7Bx%7D/%7By%7D.png%22%2C%0A%20%20%20%20%20%20%20%20%20%20%20%20%20%20%20%20%7B%22attribution%22%3A%20%22%5Cu0026copy%3B%20%5Cu003ca%20href%3D%5C%22http%3A//www.openstreetmap.org/copyright%5C%22%5Cu003eOpenStreetMap%5Cu003c/a%5Cu003e%20contributors%20%5Cu0026copy%3B%20%5Cu003ca%20href%3D%5C%22http%3A//cartodb.com/attributions%5C%22%5Cu003eCartoDB%5Cu003c/a%5Cu003e%2C%20CartoDB%20%5Cu003ca%20href%20%3D%5C%22http%3A//cartodb.com/attributions%5C%22%5Cu003eattributions%5Cu003c/a%5Cu003e%22%2C%20%22detectRetina%22%3A%20false%2C%20%22maxNativeZoom%22%3A%2018%2C%20%22maxZoom%22%3A%2018%2C%20%22minZoom%22%3A%200%2C%20%22noWrap%22%3A%20false%2C%20%22opacity%22%3A%201%2C%20%22subdomains%22%3A%20%22abc%22%2C%20%22tms%22%3A%20false%7D%0A%20%20%20%20%20%20%20%20%20%20%20%20%29.addTo%28map_0e4c4906a8c14bb3a51a4022931722c0%29%3B%0A%20%20%20%20%20%20%20%20%0A%20%20%20%20%0A%0A%20%20%20%20%20%20%20%20function%20geo_json_f7b5f0e506ee415f936d7258f6691dbe_onEachFeature%28feature%2C%20layer%29%20%7B%0A%20%20%20%20%20%20%20%20%20%20%20%20layer.on%28%7B%0A%20%20%20%20%20%20%20%20%20%20%20%20%7D%29%3B%0A%20%20%20%20%20%20%20%20%7D%3B%0A%20%20%20%20%20%20%20%20var%20geo_json_f7b5f0e506ee415f936d7258f6691dbe%20%3D%20L.geoJson%28null%2C%20%7B%0A%20%20%20%20%20%20%20%20%20%20%20%20%20%20%20%20onEachFeature%3A%20geo_json_f7b5f0e506ee415f936d7258f6691dbe_onEachFeature%2C%0A%20%20%20%20%20%20%20%20%20%20%20%20%0A%20%20%20%20%20%20%20%20%7D%29%3B%0A%0A%20%20%20%20%20%20%20%20function%20geo_json_f7b5f0e506ee415f936d7258f6691dbe_add%20%28data%29%20%7B%0A%20%20%20%20%20%20%20%20%20%20%20%20geo_json_f7b5f0e506ee415f936d7258f6691dbe%0A%20%20%20%20%20%20%20%20%20%20%20%20%20%20%20%20.addData%28data%29%0A%20%20%20%20%20%20%20%20%20%20%20%20%20%20%20%20.addTo%28map_0e4c4906a8c14bb3a51a4022931722c0%29%3B%0A%20%20%20%20%20%20%20%20%7D%0A%20%20%20%20%20%20%20%20%20%20%20%20geo_json_f7b5f0e506ee415f936d7258f6691dbe_add%28%7B%22bbox%22%3A%20%5B37.0072%2C%2036.091%2C%2037.3326%2C%2036.3183%5D%2C%20%22features%22%3A%20%5B%7B%22bbox%22%3A%20%5B37.0072%2C%2036.091%2C%2037.3326%2C%2036.3183%5D%2C%20%22geometry%22%3A%20%7B%22coordinates%22%3A%20%5B%5B%5B37.0072%2C%2036.091%5D%2C%20%5B37.3326%2C%2036.091%5D%2C%20%5B37.3326%2C%2036.3183%5D%2C%20%5B37.0072%2C%2036.3183%5D%2C%20%5B37.0072%2C%2036.091%5D%5D%5D%2C%20%22type%22%3A%20%22Polygon%22%7D%2C%20%22id%22%3A%20%220%22%2C%20%22properties%22%3A%20%7B%7D%2C%20%22type%22%3A%20%22Feature%22%7D%5D%2C%20%22type%22%3A%20%22FeatureCollection%22%7D%29%3B%0A%0A%20%20%20%20%20%20%20%20%0A%20%20%20%20%0A%20%20%20%20%20%20%20%20function%20geo_json_a253c6eed0c8486982bfccb051ea4c57_styler%28feature%29%20%7B%0A%20%20%20%20%20%20%20%20%20%20%20%20switch%28feature.id%29%20%7B%0A%20%20%20%20%20%20%20%20%20%20%20%20%20%20%20%20case%20%220%22%3A%20%0A%20%20%20%20%20%20%20%20%20%20%20%20%20%20%20%20%20%20%20%20return%20%7B%22color%22%3A%20%22%239edae5%22%2C%20%22fill%22%3A%20false%2C%20%22fillColor%22%3A%20%22%239edae5%22%2C%20%22fillOpacity%22%3A%200.5%2C%20%22opacity%22%3A%201%2C%20%22weight%22%3A%202%7D%3B%0A%20%20%20%20%20%20%20%20%20%20%20%20%20%20%20%20case%20%222%22%3A%20%0A%20%20%20%20%20%20%20%20%20%20%20%20%20%20%20%20%20%20%20%20return%20%7B%22color%22%3A%20%22%238c564b%22%2C%20%22fill%22%3A%20false%2C%20%22fillColor%22%3A%20%22%238c564b%22%2C%20%22fillOpacity%22%3A%200.5%2C%20%22opacity%22%3A%201%2C%20%22weight%22%3A%202%7D%3B%0A%20%20%20%20%20%20%20%20%20%20%20%20%20%20%20%20case%20%223%22%3A%20%0A%20%20%20%20%20%20%20%20%20%20%20%20%20%20%20%20%20%20%20%20return%20%7B%22color%22%3A%20%22%2398df8a%22%2C%20%22fill%22%3A%20false%2C%20%22fillColor%22%3A%20%22%2398df8a%22%2C%20%22fillOpacity%22%3A%200.5%2C%20%22opacity%22%3A%201%2C%20%22weight%22%3A%202%7D%3B%0A%20%20%20%20%20%20%20%20%20%20%20%20%20%20%20%20case%20%224%22%3A%20%0A%20%20%20%20%20%20%20%20%20%20%20%20%20%20%20%20%20%20%20%20return%20%7B%22color%22%3A%20%22%231f77b4%22%2C%20%22fill%22%3A%20false%2C%20%22fillColor%22%3A%20%22%231f77b4%22%2C%20%22fillOpacity%22%3A%200.5%2C%20%22opacity%22%3A%201%2C%20%22weight%22%3A%202%7D%3B%0A%20%20%20%20%20%20%20%20%20%20%20%20%20%20%20%20default%3A%0A%20%20%20%20%20%20%20%20%20%20%20%20%20%20%20%20%20%20%20%20return%20%7B%22color%22%3A%20%22%23c7c7c7%22%2C%20%22fill%22%3A%20false%2C%20%22fillColor%22%3A%20%22%23c7c7c7%22%2C%20%22fillOpacity%22%3A%200.5%2C%20%22opacity%22%3A%201%2C%20%22weight%22%3A%202%7D%3B%0A%20%20%20%20%20%20%20%20%20%20%20%20%7D%0A%20%20%20%20%20%20%20%20%7D%0A%20%20%20%20%20%20%20%20function%20geo_json_a253c6eed0c8486982bfccb051ea4c57_highlighter%28feature%29%20%7B%0A%20%20%20%20%20%20%20%20%20%20%20%20switch%28feature.id%29%20%7B%0A%20%20%20%20%20%20%20%20%20%20%20%20%20%20%20%20default%3A%0A%20%20%20%20%20%20%20%20%20%20%20%20%20%20%20%20%20%20%20%20return%20%7B%22fillOpacity%22%3A%200.75%7D%3B%0A%20%20%20%20%20%20%20%20%20%20%20%20%7D%0A%20%20%20%20%20%20%20%20%7D%0A%20%20%20%20%20%20%20%20function%20geo_json_a253c6eed0c8486982bfccb051ea4c57_pointToLayer%28feature%2C%20latlng%29%20%7B%0A%20%20%20%20%20%20%20%20%20%20%20%20var%20opts%20%3D%20%7B%22bubblingMouseEvents%22%3A%20true%2C%20%22color%22%3A%20%22%233388ff%22%2C%20%22dashArray%22%3A%20null%2C%20%22dashOffset%22%3A%20null%2C%20%22fill%22%3A%20true%2C%20%22fillColor%22%3A%20%22%233388ff%22%2C%20%22fillOpacity%22%3A%200.2%2C%20%22fillRule%22%3A%20%22evenodd%22%2C%20%22lineCap%22%3A%20%22round%22%2C%20%22lineJoin%22%3A%20%22round%22%2C%20%22opacity%22%3A%201.0%2C%20%22radius%22%3A%202%2C%20%22stroke%22%3A%20true%2C%20%22weight%22%3A%203%7D%3B%0A%20%20%20%20%20%20%20%20%20%20%20%20%0A%20%20%20%20%20%20%20%20%20%20%20%20let%20style%20%3D%20geo_json_a253c6eed0c8486982bfccb051ea4c57_styler%28feature%29%0A%20%20%20%20%20%20%20%20%20%20%20%20Object.assign%28opts%2C%20style%29%0A%20%20%20%20%20%20%20%20%20%20%20%20%0A%20%20%20%20%20%20%20%20%20%20%20%20return%20new%20L.CircleMarker%28latlng%2C%20opts%29%0A%20%20%20%20%20%20%20%20%7D%0A%0A%20%20%20%20%20%20%20%20function%20geo_json_a253c6eed0c8486982bfccb051ea4c57_onEachFeature%28feature%2C%20layer%29%20%7B%0A%20%20%20%20%20%20%20%20%20%20%20%20layer.on%28%7B%0A%20%20%20%20%20%20%20%20%20%20%20%20%20%20%20%20mouseout%3A%20function%28e%29%20%7B%0A%20%20%20%20%20%20%20%20%20%20%20%20%20%20%20%20%20%20%20%20if%28typeof%20e.target.setStyle%20%3D%3D%3D%20%22function%22%29%7B%0A%20%20%20%20%20%20%20%20%20%20%20%20%20%20%20%20%20%20%20%20%20%20%20%20geo_json_a253c6eed0c8486982bfccb051ea4c57.resetStyle%28e.target%29%3B%0A%20%20%20%20%20%20%20%20%20%20%20%20%20%20%20%20%20%20%20%20%7D%0A%20%20%20%20%20%20%20%20%20%20%20%20%20%20%20%20%7D%2C%0A%20%20%20%20%20%20%20%20%20%20%20%20%20%20%20%20mouseover%3A%20function%28e%29%20%7B%0A%20%20%20%20%20%20%20%20%20%20%20%20%20%20%20%20%20%20%20%20if%28typeof%20e.target.setStyle%20%3D%3D%3D%20%22function%22%29%7B%0A%20%20%20%20%20%20%20%20%20%20%20%20%20%20%20%20%20%20%20%20%20%20%20%20const%20highlightStyle%20%3D%20geo_json_a253c6eed0c8486982bfccb051ea4c57_highlighter%28e.target.feature%29%0A%20%20%20%20%20%20%20%20%20%20%20%20%20%20%20%20%20%20%20%20%20%20%20%20e.target.setStyle%28highlightStyle%29%3B%0A%20%20%20%20%20%20%20%20%20%20%20%20%20%20%20%20%20%20%20%20%7D%0A%20%20%20%20%20%20%20%20%20%20%20%20%20%20%20%20%7D%2C%0A%20%20%20%20%20%20%20%20%20%20%20%20%7D%29%3B%0A%20%20%20%20%20%20%20%20%7D%3B%0A%20%20%20%20%20%20%20%20var%20geo_json_a253c6eed0c8486982bfccb051ea4c57%20%3D%20L.geoJson%28null%2C%20%7B%0A%20%20%20%20%20%20%20%20%20%20%20%20%20%20%20%20onEachFeature%3A%20geo_json_a253c6eed0c8486982bfccb051ea4c57_onEachFeature%2C%0A%20%20%20%20%20%20%20%20%20%20%20%20%0A%20%20%20%20%20%20%20%20%20%20%20%20%20%20%20%20style%3A%20geo_json_a253c6eed0c8486982bfccb051ea4c57_styler%2C%0A%20%20%20%20%20%20%20%20%20%20%20%20%20%20%20%20pointToLayer%3A%20geo_json_a253c6eed0c8486982bfccb051ea4c57_pointToLayer%0A%20%20%20%20%20%20%20%20%7D%29%3B%0A%0A%20%20%20%20%20%20%20%20function%20geo_json_a253c6eed0c8486982bfccb051ea4c57_add%20%28data%29%20%7B%0A%20%20%20%20%20%20%20%20%20%20%20%20geo_json_a253c6eed0c8486982bfccb051ea4c57%0A%20%20%20%20%20%20%20%20%20%20%20%20%20%20%20%20.addData%28data%29%0A%20%20%20%20%20%20%20%20%20%20%20%20%20%20%20%20.addTo%28map_0e4c4906a8c14bb3a51a4022931722c0%29%3B%0A%20%20%20%20%20%20%20%20%7D%0A%20%20%20%20%20%20%20%20%20%20%20%20geo_json_a253c6eed0c8486982bfccb051ea4c57_add%28%7B%22bbox%22%3A%20%5B34.667805%2C%2035.190289%2C%2039.966602%2C%2037.540531%5D%2C%20%22features%22%3A%20%5B%7B%22bbox%22%3A%20%5B35.433685%2C%2035.288128%2C%2038.611027%2C%2037.31937%5D%2C%20%22geometry%22%3A%20%7B%22coordinates%22%3A%20%5B%5B%5B35.433685%2C%2035.691635%5D%2C%20%5B35.762856%2C%2037.31937%5D%2C%20%5B38.611027%2C%2036.917511%5D%2C%20%5B38.22068%2C%2035.288128%5D%2C%20%5B35.433685%2C%2035.691635%5D%5D%5D%2C%20%22type%22%3A%20%22Polygon%22%7D%2C%20%22id%22%3A%20%220%22%2C%20%22properties%22%3A%20%7B%22__folium_color%22%3A%20%22%239edae5%22%2C%20%22fileID%22%3A%20%22S1A_IW_SLC__1SDV_20160902T033420_20160902T033447_012868_01451F_0B2F-SLC%22%7D%2C%20%22type%22%3A%20%22Feature%22%7D%2C%20%7B%22bbox%22%3A%20%5B34.669373%2C%2035.460648%2C%2037.850513%2C%2037.540016%5D%2C%20%22geometry%22%3A%20%7B%22coordinates%22%3A%20%5B%5B%5B37.510155%2C%2037.540016%5D%2C%20%5B37.850513%2C%2035.86211%5D%2C%20%5B35.073101%2C%2035.460648%5D%2C%20%5B34.669373%2C%2037.140171%5D%2C%20%5B37.510155%2C%2037.540016%5D%5D%5D%2C%20%22type%22%3A%20%22Polygon%22%7D%2C%20%22id%22%3A%20%221%22%2C%20%22properties%22%3A%20%7B%22__folium_color%22%3A%20%22%23c7c7c7%22%2C%20%22fileID%22%3A%20%22S1A_IW_SLC__1SDV_20160901T153326_20160901T153354_012861_0144DB_3CCF-SLC%22%7D%2C%20%22type%22%3A%20%22Feature%22%7D%2C%20%7B%22bbox%22%3A%20%5B36.813526%2C%2035.190289%2C%2039.966602%2C%2037.211845%5D%2C%20%22geometry%22%3A%20%7B%22coordinates%22%3A%20%5B%5B%5B39.63868%2C%2037.211845%5D%2C%20%5B39.966602%2C%2035.591526%5D%2C%20%5B37.201683%2C%2035.190289%5D%2C%20%5B36.813526%2C%2036.812233%5D%2C%20%5B39.63868%2C%2037.211845%5D%5D%5D%2C%20%22type%22%3A%20%22Polygon%22%7D%2C%20%22id%22%3A%20%222%22%2C%20%22properties%22%3A%20%7B%22__folium_color%22%3A%20%22%238c564b%22%2C%20%22fileID%22%3A%20%22S1A_IW_SLC__1SDV_20160827T152508_20160827T152535_012788_014268_64B0-SLC%22%7D%2C%20%22type%22%3A%20%22Feature%22%7D%2C%20%7B%22bbox%22%3A%20%5B35.432823%2C%2035.288452%2C%2038.610256%2C%2037.320084%5D%2C%20%22geometry%22%3A%20%7B%22coordinates%22%3A%20%5B%5B%5B35.432823%2C%2035.691978%5D%2C%20%5B35.762089%2C%2037.320084%5D%2C%20%5B38.610256%2C%2036.918201%5D%2C%20%5B38.219799%2C%2035.288452%5D%2C%20%5B35.432823%2C%2035.691978%5D%5D%5D%2C%20%22type%22%3A%20%22Polygon%22%7D%2C%20%22id%22%3A%20%223%22%2C%20%22properties%22%3A%20%7B%22__folium_color%22%3A%20%22%2398df8a%22%2C%20%22fileID%22%3A%20%22S1A_IW_SLC__1SDV_20160821T033420_20160821T033447_012693_013F2C_3748-SLC%22%7D%2C%20%22type%22%3A%20%22Feature%22%7D%2C%20%7B%22bbox%22%3A%20%5B34.667805%2C%2035.460915%2C%2037.848942%2C%2037.540531%5D%2C%20%22geometry%22%3A%20%7B%22coordinates%22%3A%20%5B%5B%5B37.508518%2C%2037.540531%5D%2C%20%5B37.848942%2C%2035.862377%5D%2C%20%5B35.071602%2C%2035.460915%5D%2C%20%5B34.667805%2C%2037.140686%5D%2C%20%5B37.508518%2C%2037.540531%5D%5D%5D%2C%20%22type%22%3A%20%22Polygon%22%7D%2C%20%22id%22%3A%20%224%22%2C%20%22properties%22%3A%20%7B%22__folium_color%22%3A%20%22%231f77b4%22%2C%20%22fileID%22%3A%20%22S1A_IW_SLC__1SDV_20160820T153326_20160820T153354_012686_013EEE_607E-SLC%22%7D%2C%20%22type%22%3A%20%22Feature%22%7D%5D%2C%20%22type%22%3A%20%22FeatureCollection%22%7D%29%3B%0A%0A%20%20%20%20%20%20%20%20%0A%20%20%20%20%0A%20%20%20%20geo_json_a253c6eed0c8486982bfccb051ea4c57.bindTooltip%28%0A%20%20%20%20function%28layer%29%7B%0A%20%20%20%20let%20div%20%3D%20L.DomUtil.create%28%27div%27%29%3B%0A%20%20%20%20%0A%20%20%20%20let%20handleObject%20%3D%20feature%3D%3Etypeof%28feature%29%3D%3D%27object%27%20%3F%20JSON.stringify%28feature%29%20%3A%20feature%3B%0A%20%20%20%20let%20fields%20%3D%20%5B%22fileID%22%5D%3B%0A%20%20%20%20let%20aliases%20%3D%20%5B%22fileID%22%5D%3B%0A%20%20%20%20let%20table%20%3D%20%27%3Ctable%3E%27%20%2B%0A%20%20%20%20%20%20%20%20String%28%0A%20%20%20%20%20%20%20%20fields.map%28%0A%20%20%20%20%20%20%20%20%28v%2Ci%29%3D%3E%0A%20%20%20%20%20%20%20%20%60%3Ctr%3E%0A%20%20%20%20%20%20%20%20%20%20%20%20%3Cth%3E%24%7Baliases%5Bi%5D%7D%3C/th%3E%0A%20%20%20%20%20%20%20%20%20%20%20%20%0A%20%20%20%20%20%20%20%20%20%20%20%20%3Ctd%3E%24%7BhandleObject%28layer.feature.properties%5Bv%5D%29%7D%3C/td%3E%0A%20%20%20%20%20%20%20%20%3C/tr%3E%60%29.join%28%27%27%29%29%0A%20%20%20%20%2B%27%3C/table%3E%27%3B%0A%20%20%20%20div.innerHTML%3Dtable%3B%0A%20%20%20%20%0A%20%20%20%20return%20div%0A%20%20%20%20%7D%0A%20%20%20%20%2C%7B%22className%22%3A%20%22foliumtooltip%22%2C%20%22sticky%22%3A%20true%7D%29%3B%0A%20%20%20%20%20%20%20%20%20%20%20%20%20%20%20%20%20%20%20%20%20%0A%3C/script%3E onload=\"this.contentDocument.open();this.contentDocument.write(    decodeURIComponent(this.getAttribute('data-html')));this.contentDocument.close();\" allowfullscreen webkitallowfullscreen mozallowfullscreen></iframe></div></div>"
      ],
      "text/plain": [
       "<folium.folium.Map at 0x18368fb80>"
      ]
     },
     "execution_count": 656,
     "metadata": {},
     "output_type": "execute_result"
    }
   ],
   "source": [
    "# Create a Folium map centered over Aleppo\n",
    "mapa = folium.Map([36.207522, 37.154076],\n",
    "                 #Specify a zoom level\n",
    "                  zoom_start=7,\n",
    "                #Specify a basemap\n",
    "                  tiles='cartodbpositron')\n",
    "\n",
    "#Add the geo_json of our are of interest to the map\n",
    "geo_j.add_to(mapa)\n",
    "\n",
    "# Plot the first five images to choose a reference scene\n",
    "gdf.iloc[0:5].explore(m = mapa, \n",
    "            column = 'fileID',\n",
    "           style_kwds = {'opacity': 1, 'fill': False})"
   ]
  },
  {
   "cell_type": "code",
   "execution_count": 600,
   "id": "e82b2173",
   "metadata": {},
   "outputs": [
    {
     "name": "stdout",
     "output_type": "stream",
     "text": [
      "geometry    POLYGON ((35.432823 35.691978, 35.762089 37.32...\n",
      "fileID      S1A_IW_SLC__1SDV_20160821T033420_20160821T0334...\n",
      "Name: 2016-08-21 03:34:20, dtype: object\n"
     ]
    }
   ],
   "source": [
    "# Let's choose the scene acquired on August 27, 2016 as a reference\n",
    "reference_scene = gdf.iloc[4]\n",
    "\n",
    "# Print out the scene ID to make sure it's the right one!\n",
    "print(reference_scene)\n",
    "\n",
    "# We can use this ID to generate an InSAR stack with the ASF tools \n",
    "insar_stack  = asf.stack_from_id(reference_scene['fileID'])"
   ]
  },
  {
   "cell_type": "code",
   "execution_count": 721,
   "id": "3a7b3c13",
   "metadata": {},
   "outputs": [
    {
     "name": "stdout",
     "output_type": "stream",
     "text": [
      "Scenes with a temporal baseline of -10 to -7 weeks ['S1A_IW_SLC__1SDV_20160704T033418_20160704T033445_011993_01281C_C2A2-SLC']\n",
      "Scenes with a temporal baseline of 7 to 10 weeks ['S1A_IW_SLC__1SDV_20161020T033421_20161020T033448_013568_015B97_5A83-SLC'\n",
      " 'S1B_IW_SLC__1SDV_20161026T033341_20161026T033408_002672_00484D_A9D0-SLC']\n"
     ]
    }
   ],
   "source": [
    "# We are going to pick secondary SAR scenes based on temporal baseline\n",
    "# of about 8 weeks relative to the reference from August 21, 2016.\n",
    "# Quickly calculate a list of temporal baselines and print\n",
    "# We will use this list to iterate over our InSAR stack and \n",
    "# pick two of the pairs for InSAR processing\n",
    "\n",
    "temp_baselines = []\n",
    "for i in insar_stack:\n",
    "    tempBaseline = i.properties['temporalBaseline']\n",
    "    weeks = int(tempBaseline/7)\n",
    "    \n",
    "    temp_baselines.append([tempBaseline, weeks, i.properties['fileID']])\n",
    "\n",
    "\n",
    "temp_baselines = pd.DataFrame(temp_baselines, columns = ['tempBasline', 'weeks', 'fileID']).set_index('weeks')\n",
    "\n",
    "print('Scenes with a temporal baseline of -10 to -7 weeks', temp_baselines.loc[-9:-7]['fileID'].values)\n",
    "print('Scenes with a temporal baseline of 7 to 10 weeks', temp_baselines.loc[8:9]['fileID'].values)"
   ]
  },
  {
   "cell_type": "code",
   "execution_count": 593,
   "id": "fc41d9bf",
   "metadata": {},
   "outputs": [],
   "source": [
    "# Let's filter the stack for dates that are of interest for our bi-temporal coherence comparison\n",
    "picks = []\n",
    "\n",
    "for i in insar_stack:\n",
    "    \n",
    "    # convert the start time of acquisition (string) into a pandas datetime\n",
    "    start = pd.to_datetime(i.properties['startTime'])\n",
    "    \n",
    "    # retrieve the temporal baseline from the search result properties\n",
    "    tempBaseline = i.properties['temporalBaseline']\n",
    "    \n",
    "    # We need a secondary scene representing our \"event\" period of Sep-Oct, 2016\n",
    "    # Let's pick an secondary image that was roughly 8 week after our August 21, 2016 reference image\n",
    "    if 60 < tempBaseline < 66:\n",
    "        picks.append(i)\n",
    "\n",
    "    # Now we need an interferogram with a similar temporal baseline to our\n",
    "    # event period, which is about nine weeks from the reference image.\n",
    "    if -74 < tempBaseline < -50:\n",
    "        picks.append(i)"
   ]
  },
  {
   "cell_type": "code",
   "execution_count": 722,
   "id": "271e9385",
   "metadata": {},
   "outputs": [
    {
     "name": "stdout",
     "output_type": "stream",
     "text": [
      "2016-06-10 03:34:16 -73 days +23:59:56\n",
      "2016-10-26 03:33:41 65 days 23:59:21\n"
     ]
    }
   ],
   "source": [
    "# Make sure the temporal baselines are similar\n",
    "for i in picks:\n",
    "    start = pd.to_datetime(i.properties['startTime'])\n",
    "    dif = start - pd.to_datetime(reference_scene.name)\n",
    "    print(start, dif)"
   ]
  },
  {
   "cell_type": "code",
   "execution_count": 661,
   "id": "53ba3fa6",
   "metadata": {},
   "outputs": [
    {
     "data": {
      "text/html": [
       "<div style=\"width:100%;\"><div style=\"position:relative;width:100%;height:0;padding-bottom:60%;\"><span style=\"color:#565656\">Make this Notebook Trusted to load map: File -> Trust Notebook</span><iframe src=\"about:blank\" style=\"position:absolute;width:100%;height:100%;left:0;top:0;border:none !important;\" data-html=%3C%21DOCTYPE%20html%3E%0A%3Chead%3E%20%20%20%20%0A%20%20%20%20%3Cmeta%20http-equiv%3D%22content-type%22%20content%3D%22text/html%3B%20charset%3DUTF-8%22%20/%3E%0A%20%20%20%20%0A%20%20%20%20%20%20%20%20%3Cscript%3E%0A%20%20%20%20%20%20%20%20%20%20%20%20L_NO_TOUCH%20%3D%20false%3B%0A%20%20%20%20%20%20%20%20%20%20%20%20L_DISABLE_3D%20%3D%20false%3B%0A%20%20%20%20%20%20%20%20%3C/script%3E%0A%20%20%20%20%0A%20%20%20%20%3Cstyle%3Ehtml%2C%20body%20%7Bwidth%3A%20100%25%3Bheight%3A%20100%25%3Bmargin%3A%200%3Bpadding%3A%200%3B%7D%3C/style%3E%0A%20%20%20%20%3Cstyle%3E%23map%20%7Bposition%3Aabsolute%3Btop%3A0%3Bbottom%3A0%3Bright%3A0%3Bleft%3A0%3B%7D%3C/style%3E%0A%20%20%20%20%3Cscript%20src%3D%22https%3A//cdn.jsdelivr.net/npm/leaflet%401.6.0/dist/leaflet.js%22%3E%3C/script%3E%0A%20%20%20%20%3Cscript%20src%3D%22https%3A//code.jquery.com/jquery-1.12.4.min.js%22%3E%3C/script%3E%0A%20%20%20%20%3Cscript%20src%3D%22https%3A//maxcdn.bootstrapcdn.com/bootstrap/3.2.0/js/bootstrap.min.js%22%3E%3C/script%3E%0A%20%20%20%20%3Cscript%20src%3D%22https%3A//cdnjs.cloudflare.com/ajax/libs/Leaflet.awesome-markers/2.0.2/leaflet.awesome-markers.js%22%3E%3C/script%3E%0A%20%20%20%20%3Clink%20rel%3D%22stylesheet%22%20href%3D%22https%3A//cdn.jsdelivr.net/npm/leaflet%401.6.0/dist/leaflet.css%22/%3E%0A%20%20%20%20%3Clink%20rel%3D%22stylesheet%22%20href%3D%22https%3A//maxcdn.bootstrapcdn.com/bootstrap/3.2.0/css/bootstrap.min.css%22/%3E%0A%20%20%20%20%3Clink%20rel%3D%22stylesheet%22%20href%3D%22https%3A//maxcdn.bootstrapcdn.com/bootstrap/3.2.0/css/bootstrap-theme.min.css%22/%3E%0A%20%20%20%20%3Clink%20rel%3D%22stylesheet%22%20href%3D%22https%3A//maxcdn.bootstrapcdn.com/font-awesome/4.6.3/css/font-awesome.min.css%22/%3E%0A%20%20%20%20%3Clink%20rel%3D%22stylesheet%22%20href%3D%22https%3A//cdnjs.cloudflare.com/ajax/libs/Leaflet.awesome-markers/2.0.2/leaflet.awesome-markers.css%22/%3E%0A%20%20%20%20%3Clink%20rel%3D%22stylesheet%22%20href%3D%22https%3A//cdn.jsdelivr.net/gh/python-visualization/folium/folium/templates/leaflet.awesome.rotate.min.css%22/%3E%0A%20%20%20%20%0A%20%20%20%20%20%20%20%20%20%20%20%20%3Cmeta%20name%3D%22viewport%22%20content%3D%22width%3Ddevice-width%2C%0A%20%20%20%20%20%20%20%20%20%20%20%20%20%20%20%20initial-scale%3D1.0%2C%20maximum-scale%3D1.0%2C%20user-scalable%3Dno%22%20/%3E%0A%20%20%20%20%20%20%20%20%20%20%20%20%3Cstyle%3E%0A%20%20%20%20%20%20%20%20%20%20%20%20%20%20%20%20%23map_164e351d770d4c07b91e899340f78863%20%7B%0A%20%20%20%20%20%20%20%20%20%20%20%20%20%20%20%20%20%20%20%20position%3A%20relative%3B%0A%20%20%20%20%20%20%20%20%20%20%20%20%20%20%20%20%20%20%20%20width%3A%20100.0%25%3B%0A%20%20%20%20%20%20%20%20%20%20%20%20%20%20%20%20%20%20%20%20height%3A%20100.0%25%3B%0A%20%20%20%20%20%20%20%20%20%20%20%20%20%20%20%20%20%20%20%20left%3A%200.0%25%3B%0A%20%20%20%20%20%20%20%20%20%20%20%20%20%20%20%20%20%20%20%20top%3A%200.0%25%3B%0A%20%20%20%20%20%20%20%20%20%20%20%20%20%20%20%20%7D%0A%20%20%20%20%20%20%20%20%20%20%20%20%3C/style%3E%0A%20%20%20%20%20%20%20%20%0A%20%20%20%20%0A%20%20%20%20%20%20%20%20%20%20%20%20%20%20%20%20%20%20%20%20%3Cstyle%3E%0A%20%20%20%20%20%20%20%20%20%20%20%20%20%20%20%20%20%20%20%20%20%20%20%20.foliumtooltip%20%7B%0A%20%20%20%20%20%20%20%20%20%20%20%20%20%20%20%20%20%20%20%20%20%20%20%20%20%20%20%20%0A%20%20%20%20%20%20%20%20%20%20%20%20%20%20%20%20%20%20%20%20%20%20%20%20%7D%0A%20%20%20%20%20%20%20%20%20%20%20%20%20%20%20%20%20%20%20%20%20%20%20.foliumtooltip%20table%7B%0A%20%20%20%20%20%20%20%20%20%20%20%20%20%20%20%20%20%20%20%20%20%20%20%20%20%20%20%20margin%3A%20auto%3B%0A%20%20%20%20%20%20%20%20%20%20%20%20%20%20%20%20%20%20%20%20%20%20%20%20%7D%0A%20%20%20%20%20%20%20%20%20%20%20%20%20%20%20%20%20%20%20%20%20%20%20%20.foliumtooltip%20tr%7B%0A%20%20%20%20%20%20%20%20%20%20%20%20%20%20%20%20%20%20%20%20%20%20%20%20%20%20%20%20text-align%3A%20left%3B%0A%20%20%20%20%20%20%20%20%20%20%20%20%20%20%20%20%20%20%20%20%20%20%20%20%7D%0A%20%20%20%20%20%20%20%20%20%20%20%20%20%20%20%20%20%20%20%20%20%20%20%20.foliumtooltip%20th%7B%0A%20%20%20%20%20%20%20%20%20%20%20%20%20%20%20%20%20%20%20%20%20%20%20%20%20%20%20%20padding%3A%202px%3B%20padding-right%3A%208px%3B%0A%20%20%20%20%20%20%20%20%20%20%20%20%20%20%20%20%20%20%20%20%20%20%20%20%7D%0A%20%20%20%20%20%20%20%20%20%20%20%20%20%20%20%20%20%20%20%20%3C/style%3E%0A%20%20%20%20%20%20%20%20%20%20%20%20%0A%20%20%20%20%0A%20%20%20%20%3Cscript%20src%3D%22https%3A//code.jquery.com/ui/1.12.1/jquery-ui.js%22%3E%3C/script%3E%0A%20%20%20%20%3Cscript%3E%24%28%20function%28%29%20%7B%0A%20%20%20%20%20%20%20%20%24%28%20%22.maplegend%22%20%29.draggable%28%7B%0A%20%20%20%20%20%20%20%20%20%20%20%20start%3A%20function%20%28event%2C%20ui%29%20%7B%0A%20%20%20%20%20%20%20%20%20%20%20%20%20%20%20%20%24%28this%29.css%28%7B%0A%20%20%20%20%20%20%20%20%20%20%20%20%20%20%20%20%20%20%20%20right%3A%20%22auto%22%2C%0A%20%20%20%20%20%20%20%20%20%20%20%20%20%20%20%20%20%20%20%20top%3A%20%22auto%22%2C%0A%20%20%20%20%20%20%20%20%20%20%20%20%20%20%20%20%20%20%20%20bottom%3A%20%22auto%22%0A%20%20%20%20%20%20%20%20%20%20%20%20%20%20%20%20%7D%29%3B%0A%20%20%20%20%20%20%20%20%20%20%20%20%7D%0A%20%20%20%20%20%20%20%20%7D%29%3B%0A%20%20%20%20%7D%29%3B%0A%20%20%20%20%3C/script%3E%0A%20%20%20%20%3Cstyle%20type%3D%27text/css%27%3E%0A%20%20%20%20%20%20.maplegend%20%7B%0A%20%20%20%20%20%20%20%20position%3A%20absolute%3B%0A%20%20%20%20%20%20%20%20z-index%3A9999%3B%0A%20%20%20%20%20%20%20%20background-color%3A%20rgba%28255%2C%20255%2C%20255%2C%20.8%29%3B%0A%20%20%20%20%20%20%20%20border-radius%3A%205px%3B%0A%20%20%20%20%20%20%20%20box-shadow%3A%200%200%2015px%20rgba%280%2C0%2C0%2C0.2%29%3B%0A%20%20%20%20%20%20%20%20padding%3A%2010px%3B%0A%20%20%20%20%20%20%20%20font%3A%2012px/14px%20Arial%2C%20Helvetica%2C%20sans-serif%3B%0A%20%20%20%20%20%20%20%20right%3A%2010px%3B%0A%20%20%20%20%20%20%20%20bottom%3A%2020px%3B%0A%20%20%20%20%20%20%7D%0A%20%20%20%20%20%20.maplegend%20.legend-title%20%7B%0A%20%20%20%20%20%20%20%20text-align%3A%20left%3B%0A%20%20%20%20%20%20%20%20margin-bottom%3A%205px%3B%0A%20%20%20%20%20%20%20%20font-weight%3A%20bold%3B%0A%20%20%20%20%20%20%20%20%7D%0A%20%20%20%20%20%20.maplegend%20.legend-scale%20ul%20%7B%0A%20%20%20%20%20%20%20%20margin%3A%200%3B%0A%20%20%20%20%20%20%20%20margin-bottom%3A%200px%3B%0A%20%20%20%20%20%20%20%20padding%3A%200%3B%0A%20%20%20%20%20%20%20%20float%3A%20left%3B%0A%20%20%20%20%20%20%20%20list-style%3A%20none%3B%0A%20%20%20%20%20%20%20%20%7D%0A%20%20%20%20%20%20.maplegend%20.legend-scale%20ul%20li%20%7B%0A%20%20%20%20%20%20%20%20list-style%3A%20none%3B%0A%20%20%20%20%20%20%20%20margin-left%3A%200%3B%0A%20%20%20%20%20%20%20%20line-height%3A%2016px%3B%0A%20%20%20%20%20%20%20%20margin-bottom%3A%202px%3B%0A%20%20%20%20%20%20%20%20%7D%0A%20%20%20%20%20%20.maplegend%20ul.legend-labels%20li%20span%20%7B%0A%20%20%20%20%20%20%20%20display%3A%20block%3B%0A%20%20%20%20%20%20%20%20float%3A%20left%3B%0A%20%20%20%20%20%20%20%20height%3A%2014px%3B%0A%20%20%20%20%20%20%20%20width%3A%2014px%3B%0A%20%20%20%20%20%20%20%20margin-right%3A%205px%3B%0A%20%20%20%20%20%20%20%20margin-left%3A%200%3B%0A%20%20%20%20%20%20%20%20border%3A%200px%20solid%20%23ccc%3B%0A%20%20%20%20%20%20%20%20%7D%0A%20%20%20%20%20%20.maplegend%20.legend-source%20%7B%0A%20%20%20%20%20%20%20%20color%3A%20%23777%3B%0A%20%20%20%20%20%20%20%20clear%3A%20both%3B%0A%20%20%20%20%20%20%20%20%7D%0A%20%20%20%20%20%20.maplegend%20a%20%7B%0A%20%20%20%20%20%20%20%20color%3A%20%23777%3B%0A%20%20%20%20%20%20%20%20%7D%0A%20%20%20%20%3C/style%3E%0A%20%20%20%20%0A%3C/head%3E%0A%3Cbody%3E%20%20%20%20%0A%20%20%20%20%0A%20%20%20%20%3Cdiv%20id%3D%27maplegend%20fileID%27%20class%3D%27maplegend%27%3E%0A%20%20%20%20%20%20%20%20%3Cdiv%20class%3D%27legend-title%27%3EfileID%3C/div%3E%0A%20%20%20%20%20%20%20%20%3Cdiv%20class%3D%27legend-scale%27%3E%0A%20%20%20%20%20%20%20%20%20%20%20%20%3Cul%20class%3D%27legend-labels%27%3E%0A%20%20%20%20%20%20%20%20%20%20%20%20%20%20%20%20%3Cli%3E%3Cspan%20style%3D%27background%3A%231f77b4%27%3E%3C/span%3ES1A_IW_SLC__1SDV_20160610T033416_20160610T033443_011643_011D02_6360-SLC%3C/li%3E%0A%20%20%20%20%20%20%20%20%20%20%20%20%20%20%20%20%3Cli%3E%3Cspan%20style%3D%27background%3A%239edae5%27%3E%3C/span%3ES1B_IW_SLC__1SDV_20161026T033341_20161026T033408_002672_00484D_A9D0-SLC%3C/li%3E%0A%20%20%20%20%20%20%20%20%20%20%20%20%3C/ul%3E%0A%20%20%20%20%20%20%20%20%3C/div%3E%0A%20%20%20%20%3C/div%3E%0A%20%20%20%20%0A%20%20%20%20%0A%20%20%20%20%20%20%20%20%20%20%20%20%3Cdiv%20class%3D%22folium-map%22%20id%3D%22map_164e351d770d4c07b91e899340f78863%22%20%3E%3C/div%3E%0A%20%20%20%20%20%20%20%20%0A%3C/body%3E%0A%3Cscript%3E%20%20%20%20%0A%20%20%20%20%0A%20%20%20%20%20%20%20%20%20%20%20%20var%20map_164e351d770d4c07b91e899340f78863%20%3D%20L.map%28%0A%20%20%20%20%20%20%20%20%20%20%20%20%20%20%20%20%22map_164e351d770d4c07b91e899340f78863%22%2C%0A%20%20%20%20%20%20%20%20%20%20%20%20%20%20%20%20%7B%0A%20%20%20%20%20%20%20%20%20%20%20%20%20%20%20%20%20%20%20%20center%3A%20%5B36.207522%2C%2037.154076%5D%2C%0A%20%20%20%20%20%20%20%20%20%20%20%20%20%20%20%20%20%20%20%20crs%3A%20L.CRS.EPSG3857%2C%0A%20%20%20%20%20%20%20%20%20%20%20%20%20%20%20%20%20%20%20%20zoom%3A%207%2C%0A%20%20%20%20%20%20%20%20%20%20%20%20%20%20%20%20%20%20%20%20zoomControl%3A%20true%2C%0A%20%20%20%20%20%20%20%20%20%20%20%20%20%20%20%20%20%20%20%20preferCanvas%3A%20false%2C%0A%20%20%20%20%20%20%20%20%20%20%20%20%20%20%20%20%7D%0A%20%20%20%20%20%20%20%20%20%20%20%20%29%3B%0A%0A%20%20%20%20%20%20%20%20%20%20%20%20%0A%0A%20%20%20%20%20%20%20%20%0A%20%20%20%20%0A%20%20%20%20%20%20%20%20%20%20%20%20var%20tile_layer_90c0349443f24ccb8dd274bfafb2d8c9%20%3D%20L.tileLayer%28%0A%20%20%20%20%20%20%20%20%20%20%20%20%20%20%20%20%22https%3A//cartodb-basemaps-%7Bs%7D.global.ssl.fastly.net/light_all/%7Bz%7D/%7Bx%7D/%7By%7D.png%22%2C%0A%20%20%20%20%20%20%20%20%20%20%20%20%20%20%20%20%7B%22attribution%22%3A%20%22%5Cu0026copy%3B%20%5Cu003ca%20href%3D%5C%22http%3A//www.openstreetmap.org/copyright%5C%22%5Cu003eOpenStreetMap%5Cu003c/a%5Cu003e%20contributors%20%5Cu0026copy%3B%20%5Cu003ca%20href%3D%5C%22http%3A//cartodb.com/attributions%5C%22%5Cu003eCartoDB%5Cu003c/a%5Cu003e%2C%20CartoDB%20%5Cu003ca%20href%20%3D%5C%22http%3A//cartodb.com/attributions%5C%22%5Cu003eattributions%5Cu003c/a%5Cu003e%22%2C%20%22detectRetina%22%3A%20false%2C%20%22maxNativeZoom%22%3A%2018%2C%20%22maxZoom%22%3A%2018%2C%20%22minZoom%22%3A%200%2C%20%22noWrap%22%3A%20false%2C%20%22opacity%22%3A%201%2C%20%22subdomains%22%3A%20%22abc%22%2C%20%22tms%22%3A%20false%7D%0A%20%20%20%20%20%20%20%20%20%20%20%20%29.addTo%28map_164e351d770d4c07b91e899340f78863%29%3B%0A%20%20%20%20%20%20%20%20%0A%20%20%20%20%0A%0A%20%20%20%20%20%20%20%20function%20geo_json_bf6d94007ec94c6a9be5a6a7202d96b2_onEachFeature%28feature%2C%20layer%29%20%7B%0A%20%20%20%20%20%20%20%20%20%20%20%20layer.on%28%7B%0A%20%20%20%20%20%20%20%20%20%20%20%20%7D%29%3B%0A%20%20%20%20%20%20%20%20%7D%3B%0A%20%20%20%20%20%20%20%20var%20geo_json_bf6d94007ec94c6a9be5a6a7202d96b2%20%3D%20L.geoJson%28null%2C%20%7B%0A%20%20%20%20%20%20%20%20%20%20%20%20%20%20%20%20onEachFeature%3A%20geo_json_bf6d94007ec94c6a9be5a6a7202d96b2_onEachFeature%2C%0A%20%20%20%20%20%20%20%20%20%20%20%20%0A%20%20%20%20%20%20%20%20%7D%29%3B%0A%0A%20%20%20%20%20%20%20%20function%20geo_json_bf6d94007ec94c6a9be5a6a7202d96b2_add%20%28data%29%20%7B%0A%20%20%20%20%20%20%20%20%20%20%20%20geo_json_bf6d94007ec94c6a9be5a6a7202d96b2%0A%20%20%20%20%20%20%20%20%20%20%20%20%20%20%20%20.addData%28data%29%0A%20%20%20%20%20%20%20%20%20%20%20%20%20%20%20%20.addTo%28map_164e351d770d4c07b91e899340f78863%29%3B%0A%20%20%20%20%20%20%20%20%7D%0A%20%20%20%20%20%20%20%20%20%20%20%20geo_json_bf6d94007ec94c6a9be5a6a7202d96b2_add%28%7B%22bbox%22%3A%20%5B37.0072%2C%2036.091%2C%2037.3326%2C%2036.3183%5D%2C%20%22features%22%3A%20%5B%7B%22bbox%22%3A%20%5B37.0072%2C%2036.091%2C%2037.3326%2C%2036.3183%5D%2C%20%22geometry%22%3A%20%7B%22coordinates%22%3A%20%5B%5B%5B37.0072%2C%2036.091%5D%2C%20%5B37.3326%2C%2036.091%5D%2C%20%5B37.3326%2C%2036.3183%5D%2C%20%5B37.0072%2C%2036.3183%5D%2C%20%5B37.0072%2C%2036.091%5D%5D%5D%2C%20%22type%22%3A%20%22Polygon%22%7D%2C%20%22id%22%3A%20%220%22%2C%20%22properties%22%3A%20%7B%7D%2C%20%22type%22%3A%20%22Feature%22%7D%5D%2C%20%22type%22%3A%20%22FeatureCollection%22%7D%29%3B%0A%0A%20%20%20%20%20%20%20%20%0A%20%20%20%20%0A%20%20%20%20%20%20%20%20function%20geo_json_0d7d3ae80bc14cb4a082b491caf54d27_styler%28feature%29%20%7B%0A%20%20%20%20%20%20%20%20%20%20%20%20switch%28feature.id%29%20%7B%0A%20%20%20%20%20%20%20%20%20%20%20%20%20%20%20%20case%20%220%22%3A%20%0A%20%20%20%20%20%20%20%20%20%20%20%20%20%20%20%20%20%20%20%20return%20%7B%22color%22%3A%20%22%231f77b4%22%2C%20%22fill%22%3A%20false%2C%20%22fillColor%22%3A%20%22%231f77b4%22%2C%20%22fillOpacity%22%3A%200.5%2C%20%22opacity%22%3A%201%2C%20%22weight%22%3A%202%7D%3B%0A%20%20%20%20%20%20%20%20%20%20%20%20%20%20%20%20default%3A%0A%20%20%20%20%20%20%20%20%20%20%20%20%20%20%20%20%20%20%20%20return%20%7B%22color%22%3A%20%22%239edae5%22%2C%20%22fill%22%3A%20false%2C%20%22fillColor%22%3A%20%22%239edae5%22%2C%20%22fillOpacity%22%3A%200.5%2C%20%22opacity%22%3A%201%2C%20%22weight%22%3A%202%7D%3B%0A%20%20%20%20%20%20%20%20%20%20%20%20%7D%0A%20%20%20%20%20%20%20%20%7D%0A%20%20%20%20%20%20%20%20function%20geo_json_0d7d3ae80bc14cb4a082b491caf54d27_highlighter%28feature%29%20%7B%0A%20%20%20%20%20%20%20%20%20%20%20%20switch%28feature.id%29%20%7B%0A%20%20%20%20%20%20%20%20%20%20%20%20%20%20%20%20default%3A%0A%20%20%20%20%20%20%20%20%20%20%20%20%20%20%20%20%20%20%20%20return%20%7B%22fillOpacity%22%3A%200.75%7D%3B%0A%20%20%20%20%20%20%20%20%20%20%20%20%7D%0A%20%20%20%20%20%20%20%20%7D%0A%20%20%20%20%20%20%20%20function%20geo_json_0d7d3ae80bc14cb4a082b491caf54d27_pointToLayer%28feature%2C%20latlng%29%20%7B%0A%20%20%20%20%20%20%20%20%20%20%20%20var%20opts%20%3D%20%7B%22bubblingMouseEvents%22%3A%20true%2C%20%22color%22%3A%20%22%233388ff%22%2C%20%22dashArray%22%3A%20null%2C%20%22dashOffset%22%3A%20null%2C%20%22fill%22%3A%20true%2C%20%22fillColor%22%3A%20%22%233388ff%22%2C%20%22fillOpacity%22%3A%200.2%2C%20%22fillRule%22%3A%20%22evenodd%22%2C%20%22lineCap%22%3A%20%22round%22%2C%20%22lineJoin%22%3A%20%22round%22%2C%20%22opacity%22%3A%201.0%2C%20%22radius%22%3A%202%2C%20%22stroke%22%3A%20true%2C%20%22weight%22%3A%203%7D%3B%0A%20%20%20%20%20%20%20%20%20%20%20%20%0A%20%20%20%20%20%20%20%20%20%20%20%20let%20style%20%3D%20geo_json_0d7d3ae80bc14cb4a082b491caf54d27_styler%28feature%29%0A%20%20%20%20%20%20%20%20%20%20%20%20Object.assign%28opts%2C%20style%29%0A%20%20%20%20%20%20%20%20%20%20%20%20%0A%20%20%20%20%20%20%20%20%20%20%20%20return%20new%20L.CircleMarker%28latlng%2C%20opts%29%0A%20%20%20%20%20%20%20%20%7D%0A%0A%20%20%20%20%20%20%20%20function%20geo_json_0d7d3ae80bc14cb4a082b491caf54d27_onEachFeature%28feature%2C%20layer%29%20%7B%0A%20%20%20%20%20%20%20%20%20%20%20%20layer.on%28%7B%0A%20%20%20%20%20%20%20%20%20%20%20%20%20%20%20%20mouseout%3A%20function%28e%29%20%7B%0A%20%20%20%20%20%20%20%20%20%20%20%20%20%20%20%20%20%20%20%20if%28typeof%20e.target.setStyle%20%3D%3D%3D%20%22function%22%29%7B%0A%20%20%20%20%20%20%20%20%20%20%20%20%20%20%20%20%20%20%20%20%20%20%20%20geo_json_0d7d3ae80bc14cb4a082b491caf54d27.resetStyle%28e.target%29%3B%0A%20%20%20%20%20%20%20%20%20%20%20%20%20%20%20%20%20%20%20%20%7D%0A%20%20%20%20%20%20%20%20%20%20%20%20%20%20%20%20%7D%2C%0A%20%20%20%20%20%20%20%20%20%20%20%20%20%20%20%20mouseover%3A%20function%28e%29%20%7B%0A%20%20%20%20%20%20%20%20%20%20%20%20%20%20%20%20%20%20%20%20if%28typeof%20e.target.setStyle%20%3D%3D%3D%20%22function%22%29%7B%0A%20%20%20%20%20%20%20%20%20%20%20%20%20%20%20%20%20%20%20%20%20%20%20%20const%20highlightStyle%20%3D%20geo_json_0d7d3ae80bc14cb4a082b491caf54d27_highlighter%28e.target.feature%29%0A%20%20%20%20%20%20%20%20%20%20%20%20%20%20%20%20%20%20%20%20%20%20%20%20e.target.setStyle%28highlightStyle%29%3B%0A%20%20%20%20%20%20%20%20%20%20%20%20%20%20%20%20%20%20%20%20%7D%0A%20%20%20%20%20%20%20%20%20%20%20%20%20%20%20%20%7D%2C%0A%20%20%20%20%20%20%20%20%20%20%20%20%7D%29%3B%0A%20%20%20%20%20%20%20%20%7D%3B%0A%20%20%20%20%20%20%20%20var%20geo_json_0d7d3ae80bc14cb4a082b491caf54d27%20%3D%20L.geoJson%28null%2C%20%7B%0A%20%20%20%20%20%20%20%20%20%20%20%20%20%20%20%20onEachFeature%3A%20geo_json_0d7d3ae80bc14cb4a082b491caf54d27_onEachFeature%2C%0A%20%20%20%20%20%20%20%20%20%20%20%20%0A%20%20%20%20%20%20%20%20%20%20%20%20%20%20%20%20style%3A%20geo_json_0d7d3ae80bc14cb4a082b491caf54d27_styler%2C%0A%20%20%20%20%20%20%20%20%20%20%20%20%20%20%20%20pointToLayer%3A%20geo_json_0d7d3ae80bc14cb4a082b491caf54d27_pointToLayer%0A%20%20%20%20%20%20%20%20%7D%29%3B%0A%0A%20%20%20%20%20%20%20%20function%20geo_json_0d7d3ae80bc14cb4a082b491caf54d27_add%20%28data%29%20%7B%0A%20%20%20%20%20%20%20%20%20%20%20%20geo_json_0d7d3ae80bc14cb4a082b491caf54d27%0A%20%20%20%20%20%20%20%20%20%20%20%20%20%20%20%20.addData%28data%29%0A%20%20%20%20%20%20%20%20%20%20%20%20%20%20%20%20.addTo%28map_164e351d770d4c07b91e899340f78863%29%3B%0A%20%20%20%20%20%20%20%20%7D%0A%20%20%20%20%20%20%20%20%20%20%20%20geo_json_0d7d3ae80bc14cb4a082b491caf54d27_add%28%7B%22bbox%22%3A%20%5B35.430782%2C%2035.18037%2C%2038.610664%2C%2037.320457%5D%2C%20%22features%22%3A%20%5B%7B%22bbox%22%3A%20%5B35.433353%2C%2035.288815%2C%2038.610664%2C%2037.320457%5D%2C%20%22geometry%22%3A%20%7B%22coordinates%22%3A%20%5B%5B%5B35.433353%2C%2035.692345%5D%2C%20%5B35.762646%2C%2037.320457%5D%2C%20%5B38.610664%2C%2036.918571%5D%2C%20%5B38.220181%2C%2035.288815%5D%2C%20%5B35.433353%2C%2035.692345%5D%5D%5D%2C%20%22type%22%3A%20%22Polygon%22%7D%2C%20%22id%22%3A%20%220%22%2C%20%22properties%22%3A%20%7B%22__folium_color%22%3A%20%22%231f77b4%22%2C%20%22fileID%22%3A%20%22S1A_IW_SLC__1SDV_20160610T033416_20160610T033443_011643_011D02_6360-SLC%22%7D%2C%20%22type%22%3A%20%22Feature%22%7D%2C%20%7B%22bbox%22%3A%20%5B35.430782%2C%2035.18037%2C%2038.581455%2C%2037.202389%5D%2C%20%22geometry%22%3A%20%7B%22coordinates%22%3A%20%5B%5B%5B35.430782%2C%2035.581276%5D%2C%20%5B35.75885%2C%2037.202389%5D%2C%20%5B38.581455%2C%2036.803116%5D%2C%20%5B38.193226%2C%2035.18037%5D%2C%20%5B35.430782%2C%2035.581276%5D%5D%5D%2C%20%22type%22%3A%20%22Polygon%22%7D%2C%20%22id%22%3A%20%221%22%2C%20%22properties%22%3A%20%7B%22__folium_color%22%3A%20%22%239edae5%22%2C%20%22fileID%22%3A%20%22S1B_IW_SLC__1SDV_20161026T033341_20161026T033408_002672_00484D_A9D0-SLC%22%7D%2C%20%22type%22%3A%20%22Feature%22%7D%5D%2C%20%22type%22%3A%20%22FeatureCollection%22%7D%29%3B%0A%0A%20%20%20%20%20%20%20%20%0A%20%20%20%20%0A%20%20%20%20geo_json_0d7d3ae80bc14cb4a082b491caf54d27.bindTooltip%28%0A%20%20%20%20function%28layer%29%7B%0A%20%20%20%20let%20div%20%3D%20L.DomUtil.create%28%27div%27%29%3B%0A%20%20%20%20%0A%20%20%20%20let%20handleObject%20%3D%20feature%3D%3Etypeof%28feature%29%3D%3D%27object%27%20%3F%20JSON.stringify%28feature%29%20%3A%20feature%3B%0A%20%20%20%20let%20fields%20%3D%20%5B%22fileID%22%5D%3B%0A%20%20%20%20let%20aliases%20%3D%20%5B%22fileID%22%5D%3B%0A%20%20%20%20let%20table%20%3D%20%27%3Ctable%3E%27%20%2B%0A%20%20%20%20%20%20%20%20String%28%0A%20%20%20%20%20%20%20%20fields.map%28%0A%20%20%20%20%20%20%20%20%28v%2Ci%29%3D%3E%0A%20%20%20%20%20%20%20%20%60%3Ctr%3E%0A%20%20%20%20%20%20%20%20%20%20%20%20%3Cth%3E%24%7Baliases%5Bi%5D%7D%3C/th%3E%0A%20%20%20%20%20%20%20%20%20%20%20%20%0A%20%20%20%20%20%20%20%20%20%20%20%20%3Ctd%3E%24%7BhandleObject%28layer.feature.properties%5Bv%5D%29%7D%3C/td%3E%0A%20%20%20%20%20%20%20%20%3C/tr%3E%60%29.join%28%27%27%29%29%0A%20%20%20%20%2B%27%3C/table%3E%27%3B%0A%20%20%20%20div.innerHTML%3Dtable%3B%0A%20%20%20%20%0A%20%20%20%20return%20div%0A%20%20%20%20%7D%0A%20%20%20%20%2C%7B%22className%22%3A%20%22foliumtooltip%22%2C%20%22sticky%22%3A%20true%7D%29%3B%0A%20%20%20%20%20%20%20%20%20%20%20%20%20%20%20%20%20%20%20%20%20%0A%3C/script%3E onload=\"this.contentDocument.open();this.contentDocument.write(    decodeURIComponent(this.getAttribute('data-html')));this.contentDocument.close();\" allowfullscreen webkitallowfullscreen mozallowfullscreen></iframe></div></div>"
      ],
      "text/plain": [
       "<folium.folium.Map at 0x1836dce50>"
      ]
     },
     "execution_count": 661,
     "metadata": {},
     "output_type": "execute_result"
    }
   ],
   "source": [
    "# Lets plot these on a map and see how they look, making certain we have full coverage over Aleppo\n",
    "\n",
    "stack = gpd.GeoDataFrame(list(map(addFootprint, picks)), \n",
    "                       columns = ['fileID', 'geometry'])\n",
    "\n",
    "mapb = folium.Map([36.207522, 37.154076],\n",
    "                zoom_start=7,\n",
    "                  tiles='cartodbpositron')\n",
    "#Add the geo_json of our are of interest to the map\n",
    "geo_j.add_to(mapb)\n",
    "\n",
    "# Print an interactive map!\n",
    "stack.explore(m = mapb, column = 'fileID',\n",
    "           style_kwds = {'opacity': 1, 'fill': False})"
   ]
  },
  {
   "cell_type": "code",
   "execution_count": 695,
   "id": "9c544f5c",
   "metadata": {},
   "outputs": [],
   "source": [
    "#Prepare a list of jobs using the August 21, 2016 scene as a reference\n",
    "jobs = []\n",
    "for i in picks:\n",
    "    \n",
    "    #We have to remove the \"-SLC\" string from the fileID for Hyp3 to understand what granules we want!\n",
    "    jobs.append(hyp3.prepare_insar_job(reference_scene['fileID'].replace('-SLC', \"\"), \n",
    "                       i.properties['fileID'].replace('-SLC', \"\"), \n",
    "                       name='Aleppo', \n",
    "    # Specify 10x2 looks in range and in azimuth to create a 40m horizontal resolution coherence image               \n",
    "                        looks='10x2', \n",
    "    # The rest of the settings are default\n",
    "                       include_look_vectors=False, \n",
    "                       include_los_displacement=False, \n",
    "                       include_inc_map=False, \n",
    "                       include_dem=False, \n",
    "                       include_wrapped_phase=False, \n",
    "                       apply_water_mask=False, \n",
    "                       include_displacement_maps=False))"
   ]
  },
  {
   "cell_type": "code",
   "execution_count": 696,
   "id": "4f5db12f",
   "metadata": {
    "collapsed": true,
    "jupyter": {
     "outputs_hidden": true
    },
    "tags": []
   },
   "outputs": [
    {
     "data": {
      "text/plain": [
       "[{'job_parameters': {'granules': ['S1A_IW_SLC__1SDV_20160821T033420_20160821T033447_012693_013F2C_3748',\n",
       "    'S1A_IW_SLC__1SDV_20160610T033416_20160610T033443_011643_011D02_6360'],\n",
       "   'include_look_vectors': False,\n",
       "   'include_los_displacement': False,\n",
       "   'include_inc_map': False,\n",
       "   'looks': '10x2',\n",
       "   'include_dem': False,\n",
       "   'include_wrapped_phase': False,\n",
       "   'apply_water_mask': False,\n",
       "   'include_displacement_maps': False},\n",
       "  'job_type': 'INSAR_GAMMA',\n",
       "  'name': 'Aleppo'},\n",
       " {'job_parameters': {'granules': ['S1A_IW_SLC__1SDV_20160821T033420_20160821T033447_012693_013F2C_3748',\n",
       "    'S1B_IW_SLC__1SDV_20161026T033341_20161026T033408_002672_00484D_A9D0'],\n",
       "   'include_look_vectors': False,\n",
       "   'include_los_displacement': False,\n",
       "   'include_inc_map': False,\n",
       "   'looks': '10x2',\n",
       "   'include_dem': False,\n",
       "   'include_wrapped_phase': False,\n",
       "   'apply_water_mask': False,\n",
       "   'include_displacement_maps': False},\n",
       "  'job_type': 'INSAR_GAMMA',\n",
       "  'name': 'Aleppo'}]"
      ]
     },
     "execution_count": 696,
     "metadata": {},
     "output_type": "execute_result"
    }
   ],
   "source": [
    "# Take a look at the list of job dictionaries and make sure they look OK\n",
    "jobs"
   ]
  },
  {
   "cell_type": "code",
   "execution_count": 697,
   "id": "6a7219a2",
   "metadata": {
    "tags": []
   },
   "outputs": [],
   "source": [
    "# These jobs look good so we are going to submit the list and create a batch instance!\n",
    "batch = hyp3.submit_prepared_jobs(jobs)"
   ]
  },
  {
   "cell_type": "code",
   "execution_count": 732,
   "id": "c67e8551",
   "metadata": {
    "collapsed": true,
    "jupyter": {
     "outputs_hidden": true
    },
    "tags": []
   },
   "outputs": [
    {
     "name": "stderr",
     "output_type": "stream",
     "text": [
      "100%|██████████████████████████████████████████████████████████████████████| 2/2 [timeout in 10800s]\n"
     ]
    },
    {
     "data": {
      "text/plain": [
       "Batch([Job.from_dict({'job_id': 'c453d7cb-a7b2-4f7a-8956-434da06e4b83', 'job_type': 'INSAR_GAMMA', 'request_time': '2022-05-18T15:46:43+00:00', 'status_code': 'SUCCEEDED', 'user_id': 'coreyscher', 'name': 'Aleppo', 'job_parameters': {'apply_water_mask': False, 'granules': ['S1A_IW_SLC__1SDV_20160821T033420_20160821T033447_012693_013F2C_3748', 'S1A_IW_SLC__1SDV_20160610T033416_20160610T033443_011643_011D02_6360'], 'include_dem': False, 'include_displacement_maps': False, 'include_inc_map': False, 'include_look_vectors': False, 'include_los_displacement': False, 'include_wrapped_phase': False, 'looks': '10x2'}, 'files': [{'filename': 'S1AA_20160610T033416_20160821T033420_VVP072_INT40_G_ueF_3D10.zip', 's3': {'bucket': 'hyp3-contentbucket-fo259f6r6dn6', 'key': 'c453d7cb-a7b2-4f7a-8956-434da06e4b83/S1AA_20160610T033416_20160821T033420_VVP072_INT40_G_ueF_3D10.zip'}, 'size': 354831030, 'url': 'https://hyp3-contentbucket-fo259f6r6dn6.s3.us-west-2.amazonaws.com/c453d7cb-a7b2-4f7a-8956-434da06e4b83/S1AA_20160610T033416_20160821T033420_VVP072_INT40_G_ueF_3D10.zip'}], 'logs': [], 'browse_images': ['https://hyp3-contentbucket-fo259f6r6dn6.s3.us-west-2.amazonaws.com/c453d7cb-a7b2-4f7a-8956-434da06e4b83/S1AA_20160610T033416_20160821T033420_VVP072_INT40_G_ueF_3D10_color_phase.png', 'https://hyp3-contentbucket-fo259f6r6dn6.s3.us-west-2.amazonaws.com/c453d7cb-a7b2-4f7a-8956-434da06e4b83/S1AA_20160610T033416_20160821T033420_VVP072_INT40_G_ueF_3D10_unw_phase.png'], 'thumbnail_images': ['https://hyp3-contentbucket-fo259f6r6dn6.s3.us-west-2.amazonaws.com/c453d7cb-a7b2-4f7a-8956-434da06e4b83/S1AA_20160610T033416_20160821T033420_VVP072_INT40_G_ueF_3D10_color_phase_thumb.png', 'https://hyp3-contentbucket-fo259f6r6dn6.s3.us-west-2.amazonaws.com/c453d7cb-a7b2-4f7a-8956-434da06e4b83/S1AA_20160610T033416_20160821T033420_VVP072_INT40_G_ueF_3D10_unw_phase_thumb.png'], 'expiration_time': '2022-06-02T00:00:00+00:00', 'processing_time_in_seconds': 3743.064}), Job.from_dict({'job_id': '33f9247f-35fb-4b2f-a7d7-25a1bfa60fa6', 'job_type': 'INSAR_GAMMA', 'request_time': '2022-05-18T15:46:43+00:00', 'status_code': 'SUCCEEDED', 'user_id': 'coreyscher', 'name': 'Aleppo', 'job_parameters': {'apply_water_mask': False, 'granules': ['S1A_IW_SLC__1SDV_20160821T033420_20160821T033447_012693_013F2C_3748', 'S1B_IW_SLC__1SDV_20161026T033341_20161026T033408_002672_00484D_A9D0'], 'include_dem': False, 'include_displacement_maps': False, 'include_inc_map': False, 'include_look_vectors': False, 'include_los_displacement': False, 'include_wrapped_phase': False, 'looks': '10x2'}, 'files': [{'filename': 'S1AB_20160821T033420_20161026T033341_VVP066_INT40_G_ueF_C851.zip', 's3': {'bucket': 'hyp3-contentbucket-fo259f6r6dn6', 'key': '33f9247f-35fb-4b2f-a7d7-25a1bfa60fa6/S1AB_20160821T033420_20161026T033341_VVP066_INT40_G_ueF_C851.zip'}, 'size': 325262791, 'url': 'https://hyp3-contentbucket-fo259f6r6dn6.s3.us-west-2.amazonaws.com/33f9247f-35fb-4b2f-a7d7-25a1bfa60fa6/S1AB_20160821T033420_20161026T033341_VVP066_INT40_G_ueF_C851.zip'}], 'logs': [], 'browse_images': ['https://hyp3-contentbucket-fo259f6r6dn6.s3.us-west-2.amazonaws.com/33f9247f-35fb-4b2f-a7d7-25a1bfa60fa6/S1AB_20160821T033420_20161026T033341_VVP066_INT40_G_ueF_C851_color_phase.png', 'https://hyp3-contentbucket-fo259f6r6dn6.s3.us-west-2.amazonaws.com/33f9247f-35fb-4b2f-a7d7-25a1bfa60fa6/S1AB_20160821T033420_20161026T033341_VVP066_INT40_G_ueF_C851_unw_phase.png'], 'thumbnail_images': ['https://hyp3-contentbucket-fo259f6r6dn6.s3.us-west-2.amazonaws.com/33f9247f-35fb-4b2f-a7d7-25a1bfa60fa6/S1AB_20160821T033420_20161026T033341_VVP066_INT40_G_ueF_C851_color_phase_thumb.png', 'https://hyp3-contentbucket-fo259f6r6dn6.s3.us-west-2.amazonaws.com/33f9247f-35fb-4b2f-a7d7-25a1bfa60fa6/S1AB_20160821T033420_20161026T033341_VVP066_INT40_G_ueF_C851_unw_phase_thumb.png'], 'expiration_time': '2022-06-02T00:00:00+00:00', 'processing_time_in_seconds': 3426.692})])"
      ]
     },
     "execution_count": 732,
     "metadata": {},
     "output_type": "execute_result"
    }
   ],
   "source": [
    "# Now we can use the .watch() function to see the status of our batch\n",
    "hyp3.watch(batch)"
   ]
  },
  {
   "cell_type": "markdown",
   "id": "43f26266",
   "metadata": {},
   "source": [
    "### Download and unzip InSAR data"
   ]
  },
  {
   "cell_type": "code",
   "execution_count": 737,
   "id": "865c1033",
   "metadata": {
    "collapsed": true,
    "jupyter": {
     "outputs_hidden": true
    },
    "tags": []
   },
   "outputs": [
    {
     "name": "stderr",
     "output_type": "stream",
     "text": [
      "  0%|                                                                         | 0/2 [00:00<?, ?it/s]\n",
      "S1AB_20160821T033420_20161026T033341_VVP066_INT40_G_ueF_C851.zip:   0%| | 0/325262791 [00:00<?, ?it/\u001b[A\n",
      "S1AB_20160821T033420_20161026T033341_VVP066_INT40_G_ueF_C851.zip:   3%| | 10.0M/310M [00:12<06:11, 8\u001b[A\n",
      "S1AB_20160821T033420_20161026T033341_VVP066_INT40_G_ueF_C851.zip:   6%| | 20.0M/310M [00:32<08:03, 6\u001b[A\n",
      "S1AB_20160821T033420_20161026T033341_VVP066_INT40_G_ueF_C851.zip:  10%| | 30.0M/310M [00:40<06:02, 8\u001b[A\n",
      "S1AB_20160821T033420_20161026T033341_VVP066_INT40_G_ueF_C851.zip:  13%|▏| 40.0M/310M [01:22<11:03, 4\u001b[A\n",
      "S1AB_20160821T033420_20161026T033341_VVP066_INT40_G_ueF_C851.zip:  16%|▏| 50.0M/310M [01:48<10:49, 4\u001b[A\n",
      "S1AB_20160821T033420_20161026T033341_VVP066_INT40_G_ueF_C851.zip:  19%|▏| 60.0M/310M [02:20<11:20, 3\u001b[A\n",
      "S1AB_20160821T033420_20161026T033341_VVP066_INT40_G_ueF_C851.zip:  23%|▏| 70.0M/310M [02:29<08:35, 4\u001b[A\n",
      "S1AB_20160821T033420_20161026T033341_VVP066_INT40_G_ueF_C851.zip:  26%|▎| 80.0M/310M [02:48<07:57, 5\u001b[A\n",
      "S1AB_20160821T033420_20161026T033341_VVP066_INT40_G_ueF_C851.zip:  29%|▎| 90.0M/310M [03:27<09:35, 4\u001b[A\n",
      "S1AB_20160821T033420_20161026T033341_VVP066_INT40_G_ueF_C851.zip:  32%|▎| 100M/310M [03:43<08:05, 45\u001b[A\n",
      "S1AB_20160821T033420_20161026T033341_VVP066_INT40_G_ueF_C851.zip:  35%|▎| 110M/310M [04:04<07:31, 46\u001b[A\n",
      "S1AB_20160821T033420_20161026T033341_VVP066_INT40_G_ueF_C851.zip:  39%|▍| 120M/310M [04:20<06:28, 51\u001b[A\n",
      "S1AB_20160821T033420_20161026T033341_VVP066_INT40_G_ueF_C851.zip:  42%|▍| 130M/310M [04:22<04:28, 70\u001b[A\n",
      "S1AB_20160821T033420_20161026T033341_VVP066_INT40_G_ueF_C851.zip:  45%|▍| 140M/310M [04:25<03:12, 92\u001b[A\n",
      "S1AB_20160821T033420_20161026T033341_VVP066_INT40_G_ueF_C851.zip:  48%|▍| 150M/310M [04:29<02:26, 1.\u001b[A\n",
      "S1AB_20160821T033420_20161026T033341_VVP066_INT40_G_ueF_C851.zip:  52%|▌| 160M/310M [04:38<02:16, 1.\u001b[A\n",
      "S1AB_20160821T033420_20161026T033341_VVP066_INT40_G_ueF_C851.zip:  55%|▌| 170M/310M [04:53<02:32, 96\u001b[A\n",
      "S1AB_20160821T033420_20161026T033341_VVP066_INT40_G_ueF_C851.zip:  58%|▌| 180M/310M [05:03<02:17, 99\u001b[A\n",
      "S1AB_20160821T033420_20161026T033341_VVP066_INT40_G_ueF_C851.zip:  61%|▌| 190M/310M [05:14<02:09, 97\u001b[A\n",
      "S1AB_20160821T033420_20161026T033341_VVP066_INT40_G_ueF_C851.zip:  64%|▋| 200M/310M [05:25<01:59, 96\u001b[A\n",
      "S1AB_20160821T033420_20161026T033341_VVP066_INT40_G_ueF_C851.zip:  68%|▋| 210M/310M [05:42<02:07, 82\u001b[A\n",
      "S1AB_20160821T033420_20161026T033341_VVP066_INT40_G_ueF_C851.zip:  71%|▋| 220M/310M [05:54<01:52, 83\u001b[A\n",
      "S1AB_20160821T033420_20161026T033341_VVP066_INT40_G_ueF_C851.zip:  74%|▋| 230M/310M [06:14<01:58, 70\u001b[A\n",
      "S1AB_20160821T033420_20161026T033341_VVP066_INT40_G_ueF_C851.zip:  77%|▊| 240M/310M [06:28<01:41, 72\u001b[A\n",
      "S1AB_20160821T033420_20161026T033341_VVP066_INT40_G_ueF_C851.zip:  81%|▊| 250M/310M [06:57<01:54, 55\u001b[A\n",
      "S1AB_20160821T033420_20161026T033341_VVP066_INT40_G_ueF_C851.zip:  84%|▊| 260M/310M [07:17<01:36, 54\u001b[A\n",
      "S1AB_20160821T033420_20161026T033341_VVP066_INT40_G_ueF_C851.zip:  87%|▊| 270M/310M [07:31<01:10, 59\u001b[A\n",
      "S1AB_20160821T033420_20161026T033341_VVP066_INT40_G_ueF_C851.zip:  90%|▉| 280M/310M [07:51<00:55, 57\u001b[A\n",
      "S1AB_20160821T033420_20161026T033341_VVP066_INT40_G_ueF_C851.zip:  93%|▉| 290M/310M [08:19<00:42, 49\u001b[A\n",
      "S1AB_20160821T033420_20161026T033341_VVP066_INT40_G_ueF_C851.zip:  97%|▉| 300M/310M [08:27<00:17, 60\u001b[A\n",
      "S1AB_20160821T033420_20161026T033341_VVP066_INT40_G_ueF_C851.zip: 100%|▉| 310M/310M [08:43<00:00, 62\u001b[A\n",
      "S1AB_20160821T033420_20161026T033341_VVP066_INT40_G_ueF_C851.zip: 100%|█| 310M/310M [08:43<00:00, 62\u001b[A\n",
      "/opt/miniconda3/envs/research/lib/python3.10/site-packages/hyp3_sdk/jobs.py:140: ResourceWarning: unclosed file <_io.BufferedWriter name='/Users/coreyscher/Documents/GitHub/arset/arset/data/S1AB_20160821T033420_20161026T033341_VVP066_INT40_G_ueF_C851.zip'>\n",
      "  downloaded_files.append(download_file(download_url, filename, chunk_size=10485760))\n",
      "ResourceWarning: Enable tracemalloc to get the object allocation traceback\n",
      " 50%|████████████████████████████████                                | 1/2 [08:45<08:45, 525.20s/it]\n",
      "S1AA_20160610T033416_20160821T033420_VVP072_INT40_G_ueF_3D10.zip:   0%| | 0/354831030 [00:00<?, ?it/\u001b[A\n",
      "S1AA_20160610T033416_20160821T033420_VVP072_INT40_G_ueF_3D10.zip:   3%| | 10.0M/338M [00:02<01:09, 4\u001b[A\n",
      "S1AA_20160610T033416_20160821T033420_VVP072_INT40_G_ueF_3D10.zip:   6%| | 20.0M/338M [00:10<03:06, 1\u001b[A\n",
      "S1AA_20160610T033416_20160821T033420_VVP072_INT40_G_ueF_3D10.zip:   9%| | 30.0M/338M [00:55<12:04, 4\u001b[A\n",
      "S1AA_20160610T033416_20160821T033420_VVP072_INT40_G_ueF_3D10.zip:  12%| | 40.0M/338M [01:25<13:00, 4\u001b[A\n",
      "S1AA_20160610T033416_20160821T033420_VVP072_INT40_G_ueF_3D10.zip:  15%|▏| 50.0M/338M [01:47<11:55, 4\u001b[A\n",
      "S1AA_20160610T033416_20160821T033420_VVP072_INT40_G_ueF_3D10.zip:  18%|▏| 60.0M/338M [02:12<11:25, 4\u001b[A\n",
      "S1AA_20160610T033416_20160821T033420_VVP072_INT40_G_ueF_3D10.zip:  21%|▏| 70.0M/338M [02:45<12:21, 3\u001b[A\n",
      "S1AA_20160610T033416_20160821T033420_VVP072_INT40_G_ueF_3D10.zip:  24%|▏| 80.0M/338M [03:07<11:07, 4\u001b[A\n",
      "S1AA_20160610T033416_20160821T033420_VVP072_INT40_G_ueF_3D10.zip:  27%|▎| 90.0M/338M [03:27<09:51, 4\u001b[A\n",
      "S1AA_20160610T033416_20160821T033420_VVP072_INT40_G_ueF_3D10.zip:  30%|▎| 100M/338M [03:34<07:24, 56\u001b[A\n",
      "S1AA_20160610T033416_20160821T033420_VVP072_INT40_G_ueF_3D10.zip:  33%|▎| 110M/338M [03:37<05:15, 75\u001b[A\n",
      "S1AA_20160610T033416_20160821T033420_VVP072_INT40_G_ueF_3D10.zip:  35%|▎| 120M/338M [03:39<03:48, 1.\u001b[A\n",
      "S1AA_20160610T033416_20160821T033420_VVP072_INT40_G_ueF_3D10.zip:  38%|▍| 130M/338M [03:46<03:11, 1.\u001b[A\n",
      "S1AA_20160610T033416_20160821T033420_VVP072_INT40_G_ueF_3D10.zip:  41%|▍| 140M/338M [04:12<04:43, 73\u001b[A\n",
      "S1AA_20160610T033416_20160821T033420_VVP072_INT40_G_ueF_3D10.zip:  44%|▍| 150M/338M [04:34<05:12, 63\u001b[A\n",
      "S1AA_20160610T033416_20160821T033420_VVP072_INT40_G_ueF_3D10.zip:  47%|▍| 160M/338M [05:03<06:06, 51\u001b[A\n",
      "S1AA_20160610T033416_20160821T033420_VVP072_INT40_G_ueF_3D10.zip:  50%|▌| 170M/338M [05:36<06:49, 43\u001b[A\n",
      "S1AA_20160610T033416_20160821T033420_VVP072_INT40_G_ueF_3D10.zip:  53%|▌| 180M/338M [06:08<06:57, 39\u001b[A\n",
      "S1AA_20160610T033416_20160821T033420_VVP072_INT40_G_ueF_3D10.zip:  56%|▌| 190M/338M [06:37<06:45, 38\u001b[A\n",
      "S1AA_20160610T033416_20160821T033420_VVP072_INT40_G_ueF_3D10.zip:  59%|▌| 200M/338M [07:06<06:23, 37\u001b[A\n",
      "S1AA_20160610T033416_20160821T033420_VVP072_INT40_G_ueF_3D10.zip:  62%|▌| 210M/338M [07:27<05:31, 40\u001b[A\n",
      "S1AA_20160610T033416_20160821T033420_VVP072_INT40_G_ueF_3D10.zip:  65%|▋| 220M/338M [07:51<04:57, 41\u001b[A\n",
      "S1AA_20160610T033416_20160821T033420_VVP072_INT40_G_ueF_3D10.zip:  68%|▋| 230M/338M [08:20<04:45, 39\u001b[A\n",
      "S1AA_20160610T033416_20160821T033420_VVP072_INT40_G_ueF_3D10.zip:  71%|▋| 240M/338M [08:41<04:02, 42\u001b[A\n",
      "S1AA_20160610T033416_20160821T033420_VVP072_INT40_G_ueF_3D10.zip:  74%|▋| 250M/338M [09:02<03:28, 44\u001b[A\n",
      "S1AA_20160610T033416_20160821T033420_VVP072_INT40_G_ueF_3D10.zip:  77%|▊| 260M/338M [09:09<02:25, 56\u001b[A\n",
      "S1AA_20160610T033416_20160821T033420_VVP072_INT40_G_ueF_3D10.zip:  80%|▊| 270M/338M [09:17<01:45, 68\u001b[A\n",
      "S1AA_20160610T033416_20160821T033420_VVP072_INT40_G_ueF_3D10.zip:  83%|▊| 280M/338M [09:24<01:15, 81\u001b[A\n",
      "S1AA_20160610T033416_20160821T033420_VVP072_INT40_G_ueF_3D10.zip:  86%|▊| 290M/338M [09:45<01:14, 68\u001b[A\n",
      "S1AA_20160610T033416_20160821T033420_VVP072_INT40_G_ueF_3D10.zip:  89%|▉| 300M/338M [10:14<01:14, 53\u001b[A\n",
      "S1AA_20160610T033416_20160821T033420_VVP072_INT40_G_ueF_3D10.zip:  92%|▉| 310M/338M [10:33<00:55, 53\u001b[A\n",
      "S1AA_20160610T033416_20160821T033420_VVP072_INT40_G_ueF_3D10.zip:  95%|▉| 320M/338M [10:48<00:33, 57\u001b[A\n",
      "S1AA_20160610T033416_20160821T033420_VVP072_INT40_G_ueF_3D10.zip:  98%|▉| 330M/338M [10:57<00:12, 68\u001b[A\n",
      "S1AA_20160610T033416_20160821T033420_VVP072_INT40_G_ueF_3D10.zip: 100%|█| 338M/338M [11:03<00:00, 53\u001b[A\n",
      "/opt/miniconda3/envs/research/lib/python3.10/site-packages/hyp3_sdk/jobs.py:140: ResourceWarning: unclosed file <_io.BufferedWriter name='/Users/coreyscher/Documents/GitHub/arset/arset/data/S1AA_20160610T033416_20160821T033420_VVP072_INT40_G_ueF_3D10.zip'>\n",
      "  downloaded_files.append(download_file(download_url, filename, chunk_size=10485760))\n",
      "ResourceWarning: Enable tracemalloc to get the object allocation traceback\n",
      "100%|████████████████████████████████████████████████████████████████| 2/2 [19:50<00:00, 595.16s/it]\n"
     ]
    },
    {
     "data": {
      "text/plain": [
       "[PosixPath('/Users/coreyscher/Documents/GitHub/arset/arset/data/S1AB_20160821T033420_20161026T033341_VVP066_INT40_G_ueF_C851.zip'),\n",
       " PosixPath('/Users/coreyscher/Documents/GitHub/arset/arset/data/S1AA_20160610T033416_20160821T033420_VVP072_INT40_G_ueF_3D10.zip')]"
      ]
     },
     "execution_count": 737,
     "metadata": {},
     "output_type": "execute_result"
    }
   ],
   "source": [
    "insar_path = '/Users/coreyscher/Documents/GitHub/arset/arset/data/insar'\n",
    "\n",
    "batch.download_files('/Users/coreyscher/Documents/GitHub/arset/arset/data/insar')"
   ]
  }
 ],
 "metadata": {
  "kernelspec": {
   "display_name": "Python 3 (ipykernel)",
   "language": "python",
   "name": "python3"
  },
  "language_info": {
   "codemirror_mode": {
    "name": "ipython",
    "version": 3
   },
   "file_extension": ".py",
   "mimetype": "text/x-python",
   "name": "python",
   "nbconvert_exporter": "python",
   "pygments_lexer": "ipython3",
   "version": "3.10.4"
  }
 },
 "nbformat": 4,
 "nbformat_minor": 5
}
